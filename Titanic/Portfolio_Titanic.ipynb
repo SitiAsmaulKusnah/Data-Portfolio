{
 "cells": [
  {
   "cell_type": "code",
   "execution_count": 1,
   "id": "77fe51f5",
   "metadata": {},
   "outputs": [],
   "source": [
    "import pandas as pd\n",
    "import numpy as np\n",
    "import matplotlib.pyplot as plt\n",
    "import seaborn as sns\n",
    "import statistics as st"
   ]
  },
  {
   "cell_type": "code",
   "execution_count": 2,
   "id": "4cdab71c",
   "metadata": {},
   "outputs": [],
   "source": [
    "df=pd.read_csv(\"titanic.csv\") \n"
   ]
  },
  {
   "cell_type": "code",
   "execution_count": 3,
   "id": "eac6796d",
   "metadata": {},
   "outputs": [
    {
     "name": "stdout",
     "output_type": "stream",
     "text": [
      "<class 'pandas.core.frame.DataFrame'>\n",
      "RangeIndex: 891 entries, 0 to 890\n",
      "Data columns (total 12 columns):\n",
      " #   Column       Non-Null Count  Dtype  \n",
      "---  ------       --------------  -----  \n",
      " 0   PassengerId  891 non-null    int64  \n",
      " 1   Survived     891 non-null    int64  \n",
      " 2   Pclass       891 non-null    int64  \n",
      " 3   Name         891 non-null    object \n",
      " 4   Sex          891 non-null    object \n",
      " 5   Age          714 non-null    float64\n",
      " 6   SibSp        891 non-null    int64  \n",
      " 7   Parch        891 non-null    int64  \n",
      " 8   Ticket       891 non-null    object \n",
      " 9   Fare         891 non-null    float64\n",
      " 10  Cabin        204 non-null    object \n",
      " 11  Embarked     889 non-null    object \n",
      "dtypes: float64(2), int64(5), object(5)\n",
      "memory usage: 83.7+ KB\n"
     ]
    }
   ],
   "source": [
    "df.info()"
   ]
  },
  {
   "cell_type": "markdown",
   "id": "8dc5da98",
   "metadata": {},
   "source": [
    "# CLEANING DATA"
   ]
  },
  {
   "cell_type": "code",
   "execution_count": 5,
   "id": "4dc898ff",
   "metadata": {},
   "outputs": [],
   "source": [
    "#Mengubah tipe data train\n",
    "df['PassengerId']=df['PassengerId'].astype(str)\n",
    "df['Survived']=df['Survived'].astype(str)\n",
    "df['Pclass']=df['Pclass'].astype(str)\n",
    "df['SibSp']=df['SibSp'].astype(str)\n",
    "df['Parch']=df['Parch'].astype(str)\n"
   ]
  },
  {
   "cell_type": "code",
   "execution_count": 6,
   "id": "b9f1c23f",
   "metadata": {},
   "outputs": [
    {
     "data": {
      "text/plain": [
       "PassengerId      0\n",
       "Survived         0\n",
       "Pclass           0\n",
       "Name             0\n",
       "Sex              0\n",
       "Age            177\n",
       "SibSp            0\n",
       "Parch            0\n",
       "Ticket           0\n",
       "Fare             0\n",
       "Cabin          687\n",
       "Embarked         2\n",
       "dtype: int64"
      ]
     },
     "execution_count": 6,
     "metadata": {},
     "output_type": "execute_result"
    }
   ],
   "source": [
    "#Melihat banyaknya missing value train\n",
    "df.isnull().sum()"
   ]
  },
  {
   "cell_type": "code",
   "execution_count": 7,
   "id": "04fe0cb9",
   "metadata": {},
   "outputs": [],
   "source": [
    "#Imputasi variabel yang memiliki missing banyak >1/3\n",
    "df=df.drop(['Cabin'],axis=1)  #axis 1 merupakan kolom, kalau axis 0 itu baris\n"
   ]
  },
  {
   "cell_type": "code",
   "execution_count": 8,
   "id": "5257e92b",
   "metadata": {},
   "outputs": [
    {
     "name": "stderr",
     "output_type": "stream",
     "text": [
      "c:\\Users\\DELL\\anaconda3\\lib\\site-packages\\seaborn\\distributions.py:2619: FutureWarning: `distplot` is a deprecated function and will be removed in a future version. Please adapt your code to use either `displot` (a figure-level function with similar flexibility) or `histplot` (an axes-level function for histograms).\n",
      "  warnings.warn(msg, FutureWarning)\n"
     ]
    },
    {
     "data": {
      "text/plain": [
       "<matplotlib.lines.Line2D at 0x2238873c0a0>"
      ]
     },
     "execution_count": 8,
     "metadata": {},
     "output_type": "execute_result"
    },
    {
     "data": {
      "image/png": "[encoded data removed]",
      "text/plain": [
       "<Figure size 640x480 with 1 Axes>"
      ]
     },
     "metadata": {},
     "output_type": "display_data"
    }
   ],
   "source": [
    "#Mencari memakai mean atau median (data train)\n",
    "sns.distplot(df['Age'], hist=True, kde=True,\n",
    "           color='grey',\n",
    "          hist_kws={'edgecolor':'red'},\n",
    "            kde_kws={'linewidth':4})\n",
    "plt.axvline(df['Age'].mean(), color='blue')\n",
    "plt.axvline(df['Age'].median(), color='green')"
   ]
  },
  {
   "cell_type": "code",
   "execution_count": 9,
   "id": "1d8c23c6",
   "metadata": {},
   "outputs": [],
   "source": [
    "#mengisi missing value numerik menggunakan median\n",
    "df['Age']=df['Age'].fillna(df['Age'].median())\n"
   ]
  },
  {
   "cell_type": "code",
   "execution_count": 10,
   "id": "b09fe342",
   "metadata": {},
   "outputs": [],
   "source": [
    "#Mengisi missing value kategorik data train\n",
    "df['Embarked']=df['Embarked'].fillna(st.mode(df['Embarked']))"
   ]
  },
  {
   "cell_type": "code",
   "execution_count": 11,
   "id": "2806a431",
   "metadata": {},
   "outputs": [
    {
     "data": {
      "text/html": [
       "<div>\n",
       "<style scoped>\n",
       "    .dataframe tbody tr th:only-of-type {\n",
       "        vertical-align: middle;\n",
       "    }\n",
       "\n",
       "    .dataframe tbody tr th {\n",
       "        vertical-align: top;\n",
       "    }\n",
       "\n",
       "    .dataframe thead th {\n",
       "        text-align: right;\n",
       "    }\n",
       "</style>\n",
       "<table border=\"1\" class=\"dataframe\">\n",
       "  <thead>\n",
       "    <tr style=\"text-align: right;\">\n",
       "      <th></th>\n",
       "      <th>PassengerId</th>\n",
       "      <th>Survived</th>\n",
       "      <th>Pclass</th>\n",
       "      <th>Name</th>\n",
       "      <th>Sex</th>\n",
       "      <th>Age</th>\n",
       "      <th>SibSp</th>\n",
       "      <th>Parch</th>\n",
       "      <th>Ticket</th>\n",
       "      <th>Fare</th>\n",
       "      <th>Embarked</th>\n",
       "    </tr>\n",
       "  </thead>\n",
       "  <tbody>\n",
       "    <tr>\n",
       "      <th>0</th>\n",
       "      <td>1</td>\n",
       "      <td>0</td>\n",
       "      <td>3</td>\n",
       "      <td>Braund, Mr. Owen Harris</td>\n",
       "      <td>male</td>\n",
       "      <td>22.0</td>\n",
       "      <td>1</td>\n",
       "      <td>0</td>\n",
       "      <td>A/5 21171</td>\n",
       "      <td>7.2500</td>\n",
       "      <td>S</td>\n",
       "    </tr>\n",
       "    <tr>\n",
       "      <th>1</th>\n",
       "      <td>2</td>\n",
       "      <td>1</td>\n",
       "      <td>1</td>\n",
       "      <td>Cumings, Mrs. John Bradley (Florence Briggs Th...</td>\n",
       "      <td>female</td>\n",
       "      <td>38.0</td>\n",
       "      <td>1</td>\n",
       "      <td>0</td>\n",
       "      <td>PC 17599</td>\n",
       "      <td>71.2833</td>\n",
       "      <td>C</td>\n",
       "    </tr>\n",
       "    <tr>\n",
       "      <th>2</th>\n",
       "      <td>3</td>\n",
       "      <td>1</td>\n",
       "      <td>3</td>\n",
       "      <td>Heikkinen, Miss. Laina</td>\n",
       "      <td>female</td>\n",
       "      <td>26.0</td>\n",
       "      <td>0</td>\n",
       "      <td>0</td>\n",
       "      <td>STON/O2. 3101282</td>\n",
       "      <td>7.9250</td>\n",
       "      <td>S</td>\n",
       "    </tr>\n",
       "    <tr>\n",
       "      <th>3</th>\n",
       "      <td>4</td>\n",
       "      <td>1</td>\n",
       "      <td>1</td>\n",
       "      <td>Futrelle, Mrs. Jacques Heath (Lily May Peel)</td>\n",
       "      <td>female</td>\n",
       "      <td>35.0</td>\n",
       "      <td>1</td>\n",
       "      <td>0</td>\n",
       "      <td>113803</td>\n",
       "      <td>53.1000</td>\n",
       "      <td>S</td>\n",
       "    </tr>\n",
       "    <tr>\n",
       "      <th>4</th>\n",
       "      <td>5</td>\n",
       "      <td>0</td>\n",
       "      <td>3</td>\n",
       "      <td>Allen, Mr. William Henry</td>\n",
       "      <td>male</td>\n",
       "      <td>35.0</td>\n",
       "      <td>0</td>\n",
       "      <td>0</td>\n",
       "      <td>373450</td>\n",
       "      <td>8.0500</td>\n",
       "      <td>S</td>\n",
       "    </tr>\n",
       "    <tr>\n",
       "      <th>...</th>\n",
       "      <td>...</td>\n",
       "      <td>...</td>\n",
       "      <td>...</td>\n",
       "      <td>...</td>\n",
       "      <td>...</td>\n",
       "      <td>...</td>\n",
       "      <td>...</td>\n",
       "      <td>...</td>\n",
       "      <td>...</td>\n",
       "      <td>...</td>\n",
       "      <td>...</td>\n",
       "    </tr>\n",
       "    <tr>\n",
       "      <th>886</th>\n",
       "      <td>887</td>\n",
       "      <td>0</td>\n",
       "      <td>2</td>\n",
       "      <td>Montvila, Rev. Juozas</td>\n",
       "      <td>male</td>\n",
       "      <td>27.0</td>\n",
       "      <td>0</td>\n",
       "      <td>0</td>\n",
       "      <td>211536</td>\n",
       "      <td>13.0000</td>\n",
       "      <td>S</td>\n",
       "    </tr>\n",
       "    <tr>\n",
       "      <th>887</th>\n",
       "      <td>888</td>\n",
       "      <td>1</td>\n",
       "      <td>1</td>\n",
       "      <td>Graham, Miss. Margaret Edith</td>\n",
       "      <td>female</td>\n",
       "      <td>19.0</td>\n",
       "      <td>0</td>\n",
       "      <td>0</td>\n",
       "      <td>112053</td>\n",
       "      <td>30.0000</td>\n",
       "      <td>S</td>\n",
       "    </tr>\n",
       "    <tr>\n",
       "      <th>888</th>\n",
       "      <td>889</td>\n",
       "      <td>0</td>\n",
       "      <td>3</td>\n",
       "      <td>Johnston, Miss. Catherine Helen \"Carrie\"</td>\n",
       "      <td>female</td>\n",
       "      <td>28.0</td>\n",
       "      <td>1</td>\n",
       "      <td>2</td>\n",
       "      <td>W./C. 6607</td>\n",
       "      <td>23.4500</td>\n",
       "      <td>S</td>\n",
       "    </tr>\n",
       "    <tr>\n",
       "      <th>889</th>\n",
       "      <td>890</td>\n",
       "      <td>1</td>\n",
       "      <td>1</td>\n",
       "      <td>Behr, Mr. Karl Howell</td>\n",
       "      <td>male</td>\n",
       "      <td>26.0</td>\n",
       "      <td>0</td>\n",
       "      <td>0</td>\n",
       "      <td>111369</td>\n",
       "      <td>30.0000</td>\n",
       "      <td>C</td>\n",
       "    </tr>\n",
       "    <tr>\n",
       "      <th>890</th>\n",
       "      <td>891</td>\n",
       "      <td>0</td>\n",
       "      <td>3</td>\n",
       "      <td>Dooley, Mr. Patrick</td>\n",
       "      <td>male</td>\n",
       "      <td>32.0</td>\n",
       "      <td>0</td>\n",
       "      <td>0</td>\n",
       "      <td>370376</td>\n",
       "      <td>7.7500</td>\n",
       "      <td>Q</td>\n",
       "    </tr>\n",
       "  </tbody>\n",
       "</table>\n",
       "<p>864 rows × 11 columns</p>\n",
       "</div>"
      ],
      "text/plain": [
       "    PassengerId Survived Pclass  \\\n",
       "0             1        0      3   \n",
       "1             2        1      1   \n",
       "2             3        1      3   \n",
       "3             4        1      1   \n",
       "4             5        0      3   \n",
       "..          ...      ...    ...   \n",
       "886         887        0      2   \n",
       "887         888        1      1   \n",
       "888         889        0      3   \n",
       "889         890        1      1   \n",
       "890         891        0      3   \n",
       "\n",
       "                                                  Name     Sex   Age SibSp  \\\n",
       "0                              Braund, Mr. Owen Harris    male  22.0     1   \n",
       "1    Cumings, Mrs. John Bradley (Florence Briggs Th...  female  38.0     1   \n",
       "2                               Heikkinen, Miss. Laina  female  26.0     0   \n",
       "3         Futrelle, Mrs. Jacques Heath (Lily May Peel)  female  35.0     1   \n",
       "4                             Allen, Mr. William Henry    male  35.0     0   \n",
       "..                                                 ...     ...   ...   ...   \n",
       "886                              Montvila, Rev. Juozas    male  27.0     0   \n",
       "887                       Graham, Miss. Margaret Edith  female  19.0     0   \n",
       "888           Johnston, Miss. Catherine Helen \"Carrie\"  female  28.0     1   \n",
       "889                              Behr, Mr. Karl Howell    male  26.0     0   \n",
       "890                                Dooley, Mr. Patrick    male  32.0     0   \n",
       "\n",
       "    Parch            Ticket     Fare Embarked  \n",
       "0       0         A/5 21171   7.2500        S  \n",
       "1       0          PC 17599  71.2833        C  \n",
       "2       0  STON/O2. 3101282   7.9250        S  \n",
       "3       0            113803  53.1000        S  \n",
       "4       0            373450   8.0500        S  \n",
       "..    ...               ...      ...      ...  \n",
       "886     0            211536  13.0000        S  \n",
       "887     0            112053  30.0000        S  \n",
       "888     2        W./C. 6607  23.4500        S  \n",
       "889     0            111369  30.0000        C  \n",
       "890     0            370376   7.7500        Q  \n",
       "\n",
       "[864 rows x 11 columns]"
      ]
     },
     "execution_count": 11,
     "metadata": {},
     "output_type": "execute_result"
    }
   ],
   "source": [
    "#Menghapus Outlier\n",
    "from scipy import stats\n",
    "z=np.abs(stats.zscore(df._get_numeric_data()))\n",
    "\n",
    "#mendapatkan data yang tidak outlier pada semua variabel\n",
    "df1 = df[(z<3).all(axis=1)]\n",
    "df1"
   ]
  },
  {
   "cell_type": "markdown",
   "id": "88810fc9",
   "metadata": {},
   "source": [
    "# TRANSFORMASI DATA"
   ]
  },
  {
   "cell_type": "markdown",
   "id": "8ca63d41",
   "metadata": {},
   "source": [
    "# Recode"
   ]
  },
  {
   "cell_type": "code",
   "execution_count": 12,
   "id": "6a322cd2",
   "metadata": {},
   "outputs": [
    {
     "data": {
      "text/html": [
       "<div>\n",
       "<style scoped>\n",
       "    .dataframe tbody tr th:only-of-type {\n",
       "        vertical-align: middle;\n",
       "    }\n",
       "\n",
       "    .dataframe tbody tr th {\n",
       "        vertical-align: top;\n",
       "    }\n",
       "\n",
       "    .dataframe thead th {\n",
       "        text-align: right;\n",
       "    }\n",
       "</style>\n",
       "<table border=\"1\" class=\"dataframe\">\n",
       "  <thead>\n",
       "    <tr style=\"text-align: right;\">\n",
       "      <th></th>\n",
       "      <th>PassengerId</th>\n",
       "      <th>Survived</th>\n",
       "      <th>Pclass</th>\n",
       "      <th>Name</th>\n",
       "      <th>Sex</th>\n",
       "      <th>SibSp</th>\n",
       "      <th>Parch</th>\n",
       "      <th>Ticket</th>\n",
       "      <th>Embarked</th>\n",
       "    </tr>\n",
       "  </thead>\n",
       "  <tbody>\n",
       "    <tr>\n",
       "      <th>count</th>\n",
       "      <td>864</td>\n",
       "      <td>864</td>\n",
       "      <td>864</td>\n",
       "      <td>864</td>\n",
       "      <td>864</td>\n",
       "      <td>864</td>\n",
       "      <td>864</td>\n",
       "      <td>864</td>\n",
       "      <td>864</td>\n",
       "    </tr>\n",
       "    <tr>\n",
       "      <th>unique</th>\n",
       "      <td>864</td>\n",
       "      <td>2</td>\n",
       "      <td>3</td>\n",
       "      <td>864</td>\n",
       "      <td>2</td>\n",
       "      <td>7</td>\n",
       "      <td>7</td>\n",
       "      <td>667</td>\n",
       "      <td>3</td>\n",
       "    </tr>\n",
       "    <tr>\n",
       "      <th>top</th>\n",
       "      <td>1</td>\n",
       "      <td>0</td>\n",
       "      <td>3</td>\n",
       "      <td>Braund, Mr. Owen Harris</td>\n",
       "      <td>male</td>\n",
       "      <td>0</td>\n",
       "      <td>0</td>\n",
       "      <td>CA. 2343</td>\n",
       "      <td>S</td>\n",
       "    </tr>\n",
       "    <tr>\n",
       "      <th>freq</th>\n",
       "      <td>1</td>\n",
       "      <td>537</td>\n",
       "      <td>489</td>\n",
       "      <td>1</td>\n",
       "      <td>562</td>\n",
       "      <td>589</td>\n",
       "      <td>664</td>\n",
       "      <td>7</td>\n",
       "      <td>634</td>\n",
       "    </tr>\n",
       "  </tbody>\n",
       "</table>\n",
       "</div>"
      ],
      "text/plain": [
       "       PassengerId Survived Pclass                     Name   Sex SibSp Parch  \\\n",
       "count          864      864    864                      864   864   864   864   \n",
       "unique         864        2      3                      864     2     7     7   \n",
       "top              1        0      3  Braund, Mr. Owen Harris  male     0     0   \n",
       "freq             1      537    489                        1   562   589   664   \n",
       "\n",
       "          Ticket Embarked  \n",
       "count        864      864  \n",
       "unique       667        3  \n",
       "top     CA. 2343        S  \n",
       "freq           7      634  "
      ]
     },
     "execution_count": 12,
     "metadata": {},
     "output_type": "execute_result"
    }
   ],
   "source": [
    "df1.describe(include=[object])"
   ]
  },
  {
   "cell_type": "code",
   "execution_count": 13,
   "id": "66ff2323",
   "metadata": {},
   "outputs": [
    {
     "name": "stderr",
     "output_type": "stream",
     "text": [
      "C:\\Users\\DELL\\AppData\\Local\\Temp\\ipykernel_6864\\2971217068.py:12: SettingWithCopyWarning: \n",
      "A value is trying to be set on a copy of a slice from a DataFrame\n",
      "\n",
      "See the caveats in the documentation: https://pandas.pydata.org/pandas-docs/stable/user_guide/indexing.html#returning-a-view-versus-a-copy\n",
      "  df1.drop('Sex', axis=1, inplace=True)\n",
      "C:\\Users\\DELL\\AppData\\Local\\Temp\\ipykernel_6864\\2971217068.py:16: SettingWithCopyWarning: \n",
      "A value is trying to be set on a copy of a slice from a DataFrame.\n",
      "Try using .loc[row_indexer,col_indexer] = value instead\n",
      "\n",
      "See the caveats in the documentation: https://pandas.pydata.org/pandas-docs/stable/user_guide/indexing.html#returning-a-view-versus-a-copy\n",
      "  df1['Sex'] = label\n"
     ]
    },
    {
     "data": {
      "text/html": [
       "<div>\n",
       "<style scoped>\n",
       "    .dataframe tbody tr th:only-of-type {\n",
       "        vertical-align: middle;\n",
       "    }\n",
       "\n",
       "    .dataframe tbody tr th {\n",
       "        vertical-align: top;\n",
       "    }\n",
       "\n",
       "    .dataframe thead th {\n",
       "        text-align: right;\n",
       "    }\n",
       "</style>\n",
       "<table border=\"1\" class=\"dataframe\">\n",
       "  <thead>\n",
       "    <tr style=\"text-align: right;\">\n",
       "      <th></th>\n",
       "      <th>PassengerId</th>\n",
       "      <th>Survived</th>\n",
       "      <th>Pclass</th>\n",
       "      <th>Name</th>\n",
       "      <th>Age</th>\n",
       "      <th>SibSp</th>\n",
       "      <th>Parch</th>\n",
       "      <th>Ticket</th>\n",
       "      <th>Fare</th>\n",
       "      <th>Embarked</th>\n",
       "      <th>Sex</th>\n",
       "    </tr>\n",
       "  </thead>\n",
       "  <tbody>\n",
       "    <tr>\n",
       "      <th>0</th>\n",
       "      <td>1</td>\n",
       "      <td>0</td>\n",
       "      <td>3</td>\n",
       "      <td>Braund, Mr. Owen Harris</td>\n",
       "      <td>22.0</td>\n",
       "      <td>1</td>\n",
       "      <td>0</td>\n",
       "      <td>A/5 21171</td>\n",
       "      <td>7.2500</td>\n",
       "      <td>S</td>\n",
       "      <td>1</td>\n",
       "    </tr>\n",
       "    <tr>\n",
       "      <th>1</th>\n",
       "      <td>2</td>\n",
       "      <td>1</td>\n",
       "      <td>1</td>\n",
       "      <td>Cumings, Mrs. John Bradley (Florence Briggs Th...</td>\n",
       "      <td>38.0</td>\n",
       "      <td>1</td>\n",
       "      <td>0</td>\n",
       "      <td>PC 17599</td>\n",
       "      <td>71.2833</td>\n",
       "      <td>C</td>\n",
       "      <td>0</td>\n",
       "    </tr>\n",
       "    <tr>\n",
       "      <th>2</th>\n",
       "      <td>3</td>\n",
       "      <td>1</td>\n",
       "      <td>3</td>\n",
       "      <td>Heikkinen, Miss. Laina</td>\n",
       "      <td>26.0</td>\n",
       "      <td>0</td>\n",
       "      <td>0</td>\n",
       "      <td>STON/O2. 3101282</td>\n",
       "      <td>7.9250</td>\n",
       "      <td>S</td>\n",
       "      <td>0</td>\n",
       "    </tr>\n",
       "    <tr>\n",
       "      <th>3</th>\n",
       "      <td>4</td>\n",
       "      <td>1</td>\n",
       "      <td>1</td>\n",
       "      <td>Futrelle, Mrs. Jacques Heath (Lily May Peel)</td>\n",
       "      <td>35.0</td>\n",
       "      <td>1</td>\n",
       "      <td>0</td>\n",
       "      <td>113803</td>\n",
       "      <td>53.1000</td>\n",
       "      <td>S</td>\n",
       "      <td>0</td>\n",
       "    </tr>\n",
       "    <tr>\n",
       "      <th>4</th>\n",
       "      <td>5</td>\n",
       "      <td>0</td>\n",
       "      <td>3</td>\n",
       "      <td>Allen, Mr. William Henry</td>\n",
       "      <td>35.0</td>\n",
       "      <td>0</td>\n",
       "      <td>0</td>\n",
       "      <td>373450</td>\n",
       "      <td>8.0500</td>\n",
       "      <td>S</td>\n",
       "      <td>1</td>\n",
       "    </tr>\n",
       "    <tr>\n",
       "      <th>...</th>\n",
       "      <td>...</td>\n",
       "      <td>...</td>\n",
       "      <td>...</td>\n",
       "      <td>...</td>\n",
       "      <td>...</td>\n",
       "      <td>...</td>\n",
       "      <td>...</td>\n",
       "      <td>...</td>\n",
       "      <td>...</td>\n",
       "      <td>...</td>\n",
       "      <td>...</td>\n",
       "    </tr>\n",
       "    <tr>\n",
       "      <th>886</th>\n",
       "      <td>887</td>\n",
       "      <td>0</td>\n",
       "      <td>2</td>\n",
       "      <td>Montvila, Rev. Juozas</td>\n",
       "      <td>27.0</td>\n",
       "      <td>0</td>\n",
       "      <td>0</td>\n",
       "      <td>211536</td>\n",
       "      <td>13.0000</td>\n",
       "      <td>S</td>\n",
       "      <td>1</td>\n",
       "    </tr>\n",
       "    <tr>\n",
       "      <th>887</th>\n",
       "      <td>888</td>\n",
       "      <td>1</td>\n",
       "      <td>1</td>\n",
       "      <td>Graham, Miss. Margaret Edith</td>\n",
       "      <td>19.0</td>\n",
       "      <td>0</td>\n",
       "      <td>0</td>\n",
       "      <td>112053</td>\n",
       "      <td>30.0000</td>\n",
       "      <td>S</td>\n",
       "      <td>0</td>\n",
       "    </tr>\n",
       "    <tr>\n",
       "      <th>888</th>\n",
       "      <td>889</td>\n",
       "      <td>0</td>\n",
       "      <td>3</td>\n",
       "      <td>Johnston, Miss. Catherine Helen \"Carrie\"</td>\n",
       "      <td>28.0</td>\n",
       "      <td>1</td>\n",
       "      <td>2</td>\n",
       "      <td>W./C. 6607</td>\n",
       "      <td>23.4500</td>\n",
       "      <td>S</td>\n",
       "      <td>0</td>\n",
       "    </tr>\n",
       "    <tr>\n",
       "      <th>889</th>\n",
       "      <td>890</td>\n",
       "      <td>1</td>\n",
       "      <td>1</td>\n",
       "      <td>Behr, Mr. Karl Howell</td>\n",
       "      <td>26.0</td>\n",
       "      <td>0</td>\n",
       "      <td>0</td>\n",
       "      <td>111369</td>\n",
       "      <td>30.0000</td>\n",
       "      <td>C</td>\n",
       "      <td>1</td>\n",
       "    </tr>\n",
       "    <tr>\n",
       "      <th>890</th>\n",
       "      <td>891</td>\n",
       "      <td>0</td>\n",
       "      <td>3</td>\n",
       "      <td>Dooley, Mr. Patrick</td>\n",
       "      <td>32.0</td>\n",
       "      <td>0</td>\n",
       "      <td>0</td>\n",
       "      <td>370376</td>\n",
       "      <td>7.7500</td>\n",
       "      <td>Q</td>\n",
       "      <td>1</td>\n",
       "    </tr>\n",
       "  </tbody>\n",
       "</table>\n",
       "<p>864 rows × 11 columns</p>\n",
       "</div>"
      ],
      "text/plain": [
       "    PassengerId Survived Pclass  \\\n",
       "0             1        0      3   \n",
       "1             2        1      1   \n",
       "2             3        1      3   \n",
       "3             4        1      1   \n",
       "4             5        0      3   \n",
       "..          ...      ...    ...   \n",
       "886         887        0      2   \n",
       "887         888        1      1   \n",
       "888         889        0      3   \n",
       "889         890        1      1   \n",
       "890         891        0      3   \n",
       "\n",
       "                                                  Name   Age SibSp Parch  \\\n",
       "0                              Braund, Mr. Owen Harris  22.0     1     0   \n",
       "1    Cumings, Mrs. John Bradley (Florence Briggs Th...  38.0     1     0   \n",
       "2                               Heikkinen, Miss. Laina  26.0     0     0   \n",
       "3         Futrelle, Mrs. Jacques Heath (Lily May Peel)  35.0     1     0   \n",
       "4                             Allen, Mr. William Henry  35.0     0     0   \n",
       "..                                                 ...   ...   ...   ...   \n",
       "886                              Montvila, Rev. Juozas  27.0     0     0   \n",
       "887                       Graham, Miss. Margaret Edith  19.0     0     0   \n",
       "888           Johnston, Miss. Catherine Helen \"Carrie\"  28.0     1     2   \n",
       "889                              Behr, Mr. Karl Howell  26.0     0     0   \n",
       "890                                Dooley, Mr. Patrick  32.0     0     0   \n",
       "\n",
       "               Ticket     Fare Embarked  Sex  \n",
       "0           A/5 21171   7.2500        S    1  \n",
       "1            PC 17599  71.2833        C    0  \n",
       "2    STON/O2. 3101282   7.9250        S    0  \n",
       "3              113803  53.1000        S    0  \n",
       "4              373450   8.0500        S    1  \n",
       "..                ...      ...      ...  ...  \n",
       "886            211536  13.0000        S    1  \n",
       "887            112053  30.0000        S    0  \n",
       "888        W./C. 6607  23.4500        S    0  \n",
       "889            111369  30.0000        C    1  \n",
       "890            370376   7.7500        Q    1  \n",
       "\n",
       "[864 rows x 11 columns]"
      ]
     },
     "execution_count": 13,
     "metadata": {},
     "output_type": "execute_result"
    }
   ],
   "source": [
    "from sklearn.preprocessing import LabelEncoder\n",
    "#Recode Sex 1: Male, 0:Female\n",
    "# Creating a instance of label Encoder.\n",
    "le = LabelEncoder()\n",
    " \n",
    "# Using .fit_transform function to fit label\n",
    "# encoder and return encoded label\n",
    "label = le.fit_transform(df1['Sex'])\n",
    "\n",
    "# removing the column 'gender' from df\n",
    "# as it is of no use now.\n",
    "df1.drop('Sex', axis=1, inplace=True)\n",
    " \n",
    "# Appending the array to our dataFrame\n",
    "# with column name 'gender'\n",
    "df1['Sex'] = label\n",
    " \n",
    "# printing Dataframe\n",
    "df1"
   ]
  },
  {
   "cell_type": "code",
   "execution_count": 14,
   "id": "d5fa5e22",
   "metadata": {},
   "outputs": [
    {
     "name": "stderr",
     "output_type": "stream",
     "text": [
      "C:\\Users\\DELL\\AppData\\Local\\Temp\\ipykernel_6864\\836300052.py:11: SettingWithCopyWarning: \n",
      "A value is trying to be set on a copy of a slice from a DataFrame\n",
      "\n",
      "See the caveats in the documentation: https://pandas.pydata.org/pandas-docs/stable/user_guide/indexing.html#returning-a-view-versus-a-copy\n",
      "  df1.drop('Embarked', axis=1, inplace=True)\n",
      "C:\\Users\\DELL\\AppData\\Local\\Temp\\ipykernel_6864\\836300052.py:15: SettingWithCopyWarning: \n",
      "A value is trying to be set on a copy of a slice from a DataFrame.\n",
      "Try using .loc[row_indexer,col_indexer] = value instead\n",
      "\n",
      "See the caveats in the documentation: https://pandas.pydata.org/pandas-docs/stable/user_guide/indexing.html#returning-a-view-versus-a-copy\n",
      "  df1['Embarked'] = label\n"
     ]
    },
    {
     "data": {
      "text/html": [
       "<div>\n",
       "<style scoped>\n",
       "    .dataframe tbody tr th:only-of-type {\n",
       "        vertical-align: middle;\n",
       "    }\n",
       "\n",
       "    .dataframe tbody tr th {\n",
       "        vertical-align: top;\n",
       "    }\n",
       "\n",
       "    .dataframe thead th {\n",
       "        text-align: right;\n",
       "    }\n",
       "</style>\n",
       "<table border=\"1\" class=\"dataframe\">\n",
       "  <thead>\n",
       "    <tr style=\"text-align: right;\">\n",
       "      <th></th>\n",
       "      <th>PassengerId</th>\n",
       "      <th>Survived</th>\n",
       "      <th>Pclass</th>\n",
       "      <th>Name</th>\n",
       "      <th>Age</th>\n",
       "      <th>SibSp</th>\n",
       "      <th>Parch</th>\n",
       "      <th>Ticket</th>\n",
       "      <th>Fare</th>\n",
       "      <th>Sex</th>\n",
       "      <th>Embarked</th>\n",
       "    </tr>\n",
       "  </thead>\n",
       "  <tbody>\n",
       "    <tr>\n",
       "      <th>0</th>\n",
       "      <td>1</td>\n",
       "      <td>0</td>\n",
       "      <td>3</td>\n",
       "      <td>Braund, Mr. Owen Harris</td>\n",
       "      <td>22.0</td>\n",
       "      <td>1</td>\n",
       "      <td>0</td>\n",
       "      <td>A/5 21171</td>\n",
       "      <td>7.2500</td>\n",
       "      <td>1</td>\n",
       "      <td>2</td>\n",
       "    </tr>\n",
       "    <tr>\n",
       "      <th>1</th>\n",
       "      <td>2</td>\n",
       "      <td>1</td>\n",
       "      <td>1</td>\n",
       "      <td>Cumings, Mrs. John Bradley (Florence Briggs Th...</td>\n",
       "      <td>38.0</td>\n",
       "      <td>1</td>\n",
       "      <td>0</td>\n",
       "      <td>PC 17599</td>\n",
       "      <td>71.2833</td>\n",
       "      <td>0</td>\n",
       "      <td>0</td>\n",
       "    </tr>\n",
       "    <tr>\n",
       "      <th>2</th>\n",
       "      <td>3</td>\n",
       "      <td>1</td>\n",
       "      <td>3</td>\n",
       "      <td>Heikkinen, Miss. Laina</td>\n",
       "      <td>26.0</td>\n",
       "      <td>0</td>\n",
       "      <td>0</td>\n",
       "      <td>STON/O2. 3101282</td>\n",
       "      <td>7.9250</td>\n",
       "      <td>0</td>\n",
       "      <td>2</td>\n",
       "    </tr>\n",
       "    <tr>\n",
       "      <th>3</th>\n",
       "      <td>4</td>\n",
       "      <td>1</td>\n",
       "      <td>1</td>\n",
       "      <td>Futrelle, Mrs. Jacques Heath (Lily May Peel)</td>\n",
       "      <td>35.0</td>\n",
       "      <td>1</td>\n",
       "      <td>0</td>\n",
       "      <td>113803</td>\n",
       "      <td>53.1000</td>\n",
       "      <td>0</td>\n",
       "      <td>2</td>\n",
       "    </tr>\n",
       "    <tr>\n",
       "      <th>4</th>\n",
       "      <td>5</td>\n",
       "      <td>0</td>\n",
       "      <td>3</td>\n",
       "      <td>Allen, Mr. William Henry</td>\n",
       "      <td>35.0</td>\n",
       "      <td>0</td>\n",
       "      <td>0</td>\n",
       "      <td>373450</td>\n",
       "      <td>8.0500</td>\n",
       "      <td>1</td>\n",
       "      <td>2</td>\n",
       "    </tr>\n",
       "    <tr>\n",
       "      <th>...</th>\n",
       "      <td>...</td>\n",
       "      <td>...</td>\n",
       "      <td>...</td>\n",
       "      <td>...</td>\n",
       "      <td>...</td>\n",
       "      <td>...</td>\n",
       "      <td>...</td>\n",
       "      <td>...</td>\n",
       "      <td>...</td>\n",
       "      <td>...</td>\n",
       "      <td>...</td>\n",
       "    </tr>\n",
       "    <tr>\n",
       "      <th>886</th>\n",
       "      <td>887</td>\n",
       "      <td>0</td>\n",
       "      <td>2</td>\n",
       "      <td>Montvila, Rev. Juozas</td>\n",
       "      <td>27.0</td>\n",
       "      <td>0</td>\n",
       "      <td>0</td>\n",
       "      <td>211536</td>\n",
       "      <td>13.0000</td>\n",
       "      <td>1</td>\n",
       "      <td>2</td>\n",
       "    </tr>\n",
       "    <tr>\n",
       "      <th>887</th>\n",
       "      <td>888</td>\n",
       "      <td>1</td>\n",
       "      <td>1</td>\n",
       "      <td>Graham, Miss. Margaret Edith</td>\n",
       "      <td>19.0</td>\n",
       "      <td>0</td>\n",
       "      <td>0</td>\n",
       "      <td>112053</td>\n",
       "      <td>30.0000</td>\n",
       "      <td>0</td>\n",
       "      <td>2</td>\n",
       "    </tr>\n",
       "    <tr>\n",
       "      <th>888</th>\n",
       "      <td>889</td>\n",
       "      <td>0</td>\n",
       "      <td>3</td>\n",
       "      <td>Johnston, Miss. Catherine Helen \"Carrie\"</td>\n",
       "      <td>28.0</td>\n",
       "      <td>1</td>\n",
       "      <td>2</td>\n",
       "      <td>W./C. 6607</td>\n",
       "      <td>23.4500</td>\n",
       "      <td>0</td>\n",
       "      <td>2</td>\n",
       "    </tr>\n",
       "    <tr>\n",
       "      <th>889</th>\n",
       "      <td>890</td>\n",
       "      <td>1</td>\n",
       "      <td>1</td>\n",
       "      <td>Behr, Mr. Karl Howell</td>\n",
       "      <td>26.0</td>\n",
       "      <td>0</td>\n",
       "      <td>0</td>\n",
       "      <td>111369</td>\n",
       "      <td>30.0000</td>\n",
       "      <td>1</td>\n",
       "      <td>0</td>\n",
       "    </tr>\n",
       "    <tr>\n",
       "      <th>890</th>\n",
       "      <td>891</td>\n",
       "      <td>0</td>\n",
       "      <td>3</td>\n",
       "      <td>Dooley, Mr. Patrick</td>\n",
       "      <td>32.0</td>\n",
       "      <td>0</td>\n",
       "      <td>0</td>\n",
       "      <td>370376</td>\n",
       "      <td>7.7500</td>\n",
       "      <td>1</td>\n",
       "      <td>1</td>\n",
       "    </tr>\n",
       "  </tbody>\n",
       "</table>\n",
       "<p>864 rows × 11 columns</p>\n",
       "</div>"
      ],
      "text/plain": [
       "    PassengerId Survived Pclass  \\\n",
       "0             1        0      3   \n",
       "1             2        1      1   \n",
       "2             3        1      3   \n",
       "3             4        1      1   \n",
       "4             5        0      3   \n",
       "..          ...      ...    ...   \n",
       "886         887        0      2   \n",
       "887         888        1      1   \n",
       "888         889        0      3   \n",
       "889         890        1      1   \n",
       "890         891        0      3   \n",
       "\n",
       "                                                  Name   Age SibSp Parch  \\\n",
       "0                              Braund, Mr. Owen Harris  22.0     1     0   \n",
       "1    Cumings, Mrs. John Bradley (Florence Briggs Th...  38.0     1     0   \n",
       "2                               Heikkinen, Miss. Laina  26.0     0     0   \n",
       "3         Futrelle, Mrs. Jacques Heath (Lily May Peel)  35.0     1     0   \n",
       "4                             Allen, Mr. William Henry  35.0     0     0   \n",
       "..                                                 ...   ...   ...   ...   \n",
       "886                              Montvila, Rev. Juozas  27.0     0     0   \n",
       "887                       Graham, Miss. Margaret Edith  19.0     0     0   \n",
       "888           Johnston, Miss. Catherine Helen \"Carrie\"  28.0     1     2   \n",
       "889                              Behr, Mr. Karl Howell  26.0     0     0   \n",
       "890                                Dooley, Mr. Patrick  32.0     0     0   \n",
       "\n",
       "               Ticket     Fare  Sex  Embarked  \n",
       "0           A/5 21171   7.2500    1         2  \n",
       "1            PC 17599  71.2833    0         0  \n",
       "2    STON/O2. 3101282   7.9250    0         2  \n",
       "3              113803  53.1000    0         2  \n",
       "4              373450   8.0500    1         2  \n",
       "..                ...      ...  ...       ...  \n",
       "886            211536  13.0000    1         2  \n",
       "887            112053  30.0000    0         2  \n",
       "888        W./C. 6607  23.4500    0         2  \n",
       "889            111369  30.0000    1         0  \n",
       "890            370376   7.7500    1         1  \n",
       "\n",
       "[864 rows x 11 columns]"
      ]
     },
     "execution_count": 14,
     "metadata": {},
     "output_type": "execute_result"
    }
   ],
   "source": [
    "#Recode Embarked 0: C, 1:Q, 2:S\n",
    "# Creating a instance of label Encoder.\n",
    "le = LabelEncoder()\n",
    " \n",
    "# Using .fit_transform function to fit label\n",
    "# encoder and return encoded label\n",
    "label = le.fit_transform(df1['Embarked'])\n",
    "\n",
    "# removing the column 'gender' from df\n",
    "# as it is of no use now.\n",
    "df1.drop('Embarked', axis=1, inplace=True)\n",
    " \n",
    "# Appending the array to our dataFrame\n",
    "# with column name 'gender'\n",
    "df1['Embarked'] = label\n",
    " \n",
    "# printing Dataframe\n",
    "df1"
   ]
  },
  {
   "cell_type": "markdown",
   "id": "37d0186e",
   "metadata": {},
   "source": [
    "# Visualisasi Data "
   ]
  },
  {
   "cell_type": "code",
   "execution_count": 15,
   "id": "5cd88ae6",
   "metadata": {},
   "outputs": [
    {
     "name": "stderr",
     "output_type": "stream",
     "text": [
      "c:\\Users\\DELL\\anaconda3\\lib\\site-packages\\seaborn\\_decorators.py:36: FutureWarning: Pass the following variable as a keyword arg: x. From version 0.12, the only valid positional argument will be `data`, and passing other arguments without an explicit keyword will result in an error or misinterpretation.\n",
      "  warnings.warn(\n"
     ]
    },
    {
     "data": {
      "text/plain": [
       "<AxesSubplot:xlabel='Age'>"
      ]
     },
     "execution_count": 15,
     "metadata": {},
     "output_type": "execute_result"
    },
    {
     "data": {
      "image/png": "[encoded data removed]",
      "text/plain": [
       "<Figure size 640x480 with 1 Axes>"
      ]
     },
     "metadata": {},
     "output_type": "display_data"
    }
   ],
   "source": [
    "sns.boxplot(df['Age'])"
   ]
  },
  {
   "cell_type": "code",
   "execution_count": 16,
   "id": "0bb7e5cb",
   "metadata": {},
   "outputs": [
    {
     "name": "stderr",
     "output_type": "stream",
     "text": [
      "c:\\Users\\DELL\\anaconda3\\lib\\site-packages\\seaborn\\_decorators.py:36: FutureWarning: Pass the following variable as a keyword arg: x. From version 0.12, the only valid positional argument will be `data`, and passing other arguments without an explicit keyword will result in an error or misinterpretation.\n",
      "  warnings.warn(\n"
     ]
    },
    {
     "data": {
      "text/plain": [
       "<AxesSubplot:xlabel='Fare'>"
      ]
     },
     "execution_count": 16,
     "metadata": {},
     "output_type": "execute_result"
    },
    {
     "data": {
      "image/png": "[encoded data removed]",
      "text/plain": [
       "<Figure size 640x480 with 1 Axes>"
      ]
     },
     "metadata": {},
     "output_type": "display_data"
    }
   ],
   "source": [
    "sns.boxplot(df['Fare'])"
   ]
  },
  {
   "cell_type": "code",
   "execution_count": 17,
   "id": "9d7a2157",
   "metadata": {},
   "outputs": [
    {
     "data": {
      "text/plain": [
       "<AxesSubplot:>"
      ]
     },
     "execution_count": 17,
     "metadata": {},
     "output_type": "execute_result"
    },
    {
     "data": {
      "image/png": "[encoded data removed]",
      "text/plain": [
       "<Figure size 640x480 with 1 Axes>"
      ]
     },
     "metadata": {},
     "output_type": "display_data"
    }
   ],
   "source": [
    "df['Survived'].value_counts().plot(kind='barh')"
   ]
  },
  {
   "cell_type": "code",
   "execution_count": 18,
   "id": "816ba4d7",
   "metadata": {},
   "outputs": [
    {
     "data": {
      "image/png": "[encoded data removed]",
      "text/plain": [
       "<Figure size 640x480 with 1 Axes>"
      ]
     },
     "metadata": {},
     "output_type": "display_data"
    }
   ],
   "source": [
    "colors = ('#CA8787', '#F7DCB9')\n",
    "\n",
    "Type = df['Survived'].value_counts()\n",
    "Type.plot.pie(autopct = '%.1f%%', colors = colors) #autipct buat ngatur koma yang persenan\n",
    "plt.title('Pie Chart', fontsize=10, color='#03045e')\n",
    "plt.show()"
   ]
  },
  {
   "cell_type": "markdown",
   "id": "2b8be44e",
   "metadata": {},
   "source": [
    "# SVM"
   ]
  },
  {
   "cell_type": "code",
   "execution_count": 20,
   "id": "4a682988",
   "metadata": {},
   "outputs": [],
   "source": [
    "#Import scikit-learn dataset library\n",
    "from sklearn import datasets\n",
    "\n",
    "# Import train_test_split function\n",
    "from sklearn.model_selection import train_test_split\n",
    "\n",
    "#Import svm model\n",
    "from sklearn import svm\n",
    "\n",
    "# Import for matrix confussion\n",
    "from sklearn.metrics import confusion_matrix\n",
    "\n",
    "# Import for classification report\n",
    "from sklearn.metrics import classification_report\n",
    "from sklearn.metrics import accuracy_score"
   ]
  },
  {
   "cell_type": "code",
   "execution_count": 21,
   "id": "00655d1a",
   "metadata": {},
   "outputs": [
    {
     "data": {
      "text/html": [
       "<div>\n",
       "<style scoped>\n",
       "    .dataframe tbody tr th:only-of-type {\n",
       "        vertical-align: middle;\n",
       "    }\n",
       "\n",
       "    .dataframe tbody tr th {\n",
       "        vertical-align: top;\n",
       "    }\n",
       "\n",
       "    .dataframe thead th {\n",
       "        text-align: right;\n",
       "    }\n",
       "</style>\n",
       "<table border=\"1\" class=\"dataframe\">\n",
       "  <thead>\n",
       "    <tr style=\"text-align: right;\">\n",
       "      <th></th>\n",
       "      <th>Pclass</th>\n",
       "      <th>Age</th>\n",
       "      <th>SibSp</th>\n",
       "      <th>Parch</th>\n",
       "      <th>Fare</th>\n",
       "      <th>Sex</th>\n",
       "      <th>Embarked</th>\n",
       "    </tr>\n",
       "  </thead>\n",
       "  <tbody>\n",
       "    <tr>\n",
       "      <th>0</th>\n",
       "      <td>3</td>\n",
       "      <td>22.0</td>\n",
       "      <td>1</td>\n",
       "      <td>0</td>\n",
       "      <td>7.2500</td>\n",
       "      <td>1</td>\n",
       "      <td>2</td>\n",
       "    </tr>\n",
       "    <tr>\n",
       "      <th>1</th>\n",
       "      <td>1</td>\n",
       "      <td>38.0</td>\n",
       "      <td>1</td>\n",
       "      <td>0</td>\n",
       "      <td>71.2833</td>\n",
       "      <td>0</td>\n",
       "      <td>0</td>\n",
       "    </tr>\n",
       "    <tr>\n",
       "      <th>2</th>\n",
       "      <td>3</td>\n",
       "      <td>26.0</td>\n",
       "      <td>0</td>\n",
       "      <td>0</td>\n",
       "      <td>7.9250</td>\n",
       "      <td>0</td>\n",
       "      <td>2</td>\n",
       "    </tr>\n",
       "    <tr>\n",
       "      <th>3</th>\n",
       "      <td>1</td>\n",
       "      <td>35.0</td>\n",
       "      <td>1</td>\n",
       "      <td>0</td>\n",
       "      <td>53.1000</td>\n",
       "      <td>0</td>\n",
       "      <td>2</td>\n",
       "    </tr>\n",
       "    <tr>\n",
       "      <th>4</th>\n",
       "      <td>3</td>\n",
       "      <td>35.0</td>\n",
       "      <td>0</td>\n",
       "      <td>0</td>\n",
       "      <td>8.0500</td>\n",
       "      <td>1</td>\n",
       "      <td>2</td>\n",
       "    </tr>\n",
       "    <tr>\n",
       "      <th>...</th>\n",
       "      <td>...</td>\n",
       "      <td>...</td>\n",
       "      <td>...</td>\n",
       "      <td>...</td>\n",
       "      <td>...</td>\n",
       "      <td>...</td>\n",
       "      <td>...</td>\n",
       "    </tr>\n",
       "    <tr>\n",
       "      <th>886</th>\n",
       "      <td>2</td>\n",
       "      <td>27.0</td>\n",
       "      <td>0</td>\n",
       "      <td>0</td>\n",
       "      <td>13.0000</td>\n",
       "      <td>1</td>\n",
       "      <td>2</td>\n",
       "    </tr>\n",
       "    <tr>\n",
       "      <th>887</th>\n",
       "      <td>1</td>\n",
       "      <td>19.0</td>\n",
       "      <td>0</td>\n",
       "      <td>0</td>\n",
       "      <td>30.0000</td>\n",
       "      <td>0</td>\n",
       "      <td>2</td>\n",
       "    </tr>\n",
       "    <tr>\n",
       "      <th>888</th>\n",
       "      <td>3</td>\n",
       "      <td>28.0</td>\n",
       "      <td>1</td>\n",
       "      <td>2</td>\n",
       "      <td>23.4500</td>\n",
       "      <td>0</td>\n",
       "      <td>2</td>\n",
       "    </tr>\n",
       "    <tr>\n",
       "      <th>889</th>\n",
       "      <td>1</td>\n",
       "      <td>26.0</td>\n",
       "      <td>0</td>\n",
       "      <td>0</td>\n",
       "      <td>30.0000</td>\n",
       "      <td>1</td>\n",
       "      <td>0</td>\n",
       "    </tr>\n",
       "    <tr>\n",
       "      <th>890</th>\n",
       "      <td>3</td>\n",
       "      <td>32.0</td>\n",
       "      <td>0</td>\n",
       "      <td>0</td>\n",
       "      <td>7.7500</td>\n",
       "      <td>1</td>\n",
       "      <td>1</td>\n",
       "    </tr>\n",
       "  </tbody>\n",
       "</table>\n",
       "<p>864 rows × 7 columns</p>\n",
       "</div>"
      ],
      "text/plain": [
       "    Pclass   Age SibSp Parch     Fare  Sex  Embarked\n",
       "0        3  22.0     1     0   7.2500    1         2\n",
       "1        1  38.0     1     0  71.2833    0         0\n",
       "2        3  26.0     0     0   7.9250    0         2\n",
       "3        1  35.0     1     0  53.1000    0         2\n",
       "4        3  35.0     0     0   8.0500    1         2\n",
       "..     ...   ...   ...   ...      ...  ...       ...\n",
       "886      2  27.0     0     0  13.0000    1         2\n",
       "887      1  19.0     0     0  30.0000    0         2\n",
       "888      3  28.0     1     2  23.4500    0         2\n",
       "889      1  26.0     0     0  30.0000    1         0\n",
       "890      3  32.0     0     0   7.7500    1         1\n",
       "\n",
       "[864 rows x 7 columns]"
      ]
     },
     "execution_count": 21,
     "metadata": {},
     "output_type": "execute_result"
    }
   ],
   "source": [
    "target = df1['Survived']\n",
    "features = df1.drop(['PassengerId','Survived','Name','Ticket'],axis=1)\n",
    "features"
   ]
  },
  {
   "cell_type": "code",
   "execution_count": 22,
   "id": "859c8a6e",
   "metadata": {},
   "outputs": [],
   "source": [
    "# Split dataset into training set and test set\n",
    "X_train, X_test, y_train, y_test = train_test_split(features, target, test_size=0.25,random_state=123) # 75% training and 25% test"
   ]
  },
  {
   "attachments": {
    "image.png": {
     "image/png": "[encoded data removed]"
    }
   },
   "cell_type": "markdown",
   "id": "e4e2abf8",
   "metadata": {},
   "source": [
    "###### ![image.png](attachment:image.png)\n"
   ]
  },
  {
   "attachments": {
    "image.png": {
     "image/png": "[encoded data removed]"
    }
   },
   "cell_type": "markdown",
   "id": "0705cabe",
   "metadata": {},
   "source": [
    "##### ![image.png](attachment:image.png)"
   ]
  },
  {
   "cell_type": "markdown",
   "id": "cf356d05",
   "metadata": {},
   "source": [
    "# KERNEL LINEAR"
   ]
  },
  {
   "cell_type": "code",
   "execution_count": 23,
   "id": "cbb6f33f",
   "metadata": {},
   "outputs": [
    {
     "name": "stdout",
     "output_type": "stream",
     "text": [
      "Training Data Accuracy: 0.7700617283950617\n",
      "Test Data Accuracy: 0.8240740740740741\n",
      "[[118  18]\n",
      " [ 20  60]]\n",
      "              precision    recall  f1-score   support\n",
      "\n",
      "           0       0.86      0.87      0.86       136\n",
      "           1       0.77      0.75      0.76        80\n",
      "\n",
      "    accuracy                           0.82       216\n",
      "   macro avg       0.81      0.81      0.81       216\n",
      "weighted avg       0.82      0.82      0.82       216\n",
      "\n"
     ]
    }
   ],
   "source": [
    "# Create a SVM Classifier\n",
    "clf_linear = svm.SVC(kernel='linear', random_state=123)\n",
    "# Train the model using the training sets\n",
    "clf_linear.fit(X_train, y_train)\n",
    "\n",
    "# Predict the response for the training dataset\n",
    "y_pred_train = clf_linear.predict(X_train)\n",
    "# Predict the response for the test dataset\n",
    "y_predlin = clf_linear.predict(X_test)\n",
    "\n",
    "# Calculate accuracy for the training data\n",
    "accuracy_train = accuracy_score(y_train, y_pred_train)\n",
    "# Calculate accuracy for the test data\n",
    "accuracy_test = accuracy_score(y_test, y_predlin)\n",
    "\n",
    "# Print the accuracy for training and test data\n",
    "print(\"Training Data Accuracy:\", accuracy_train)\n",
    "print(\"Test Data Accuracy:\", accuracy_test)\n",
    "\n",
    "# Print the confusion matrix for the test data\n",
    "print(confusion_matrix(y_test, y_predlin))\n",
    "# Print the classification report for the test data\n",
    "print(classification_report(y_test, y_predlin))\n"
   ]
  },
  {
   "cell_type": "markdown",
   "id": "cf9d9593",
   "metadata": {},
   "source": [
    "#  LINEAR C=1, gamma=0.1"
   ]
  },
  {
   "cell_type": "code",
   "execution_count": 22,
   "id": "a323ab97",
   "metadata": {},
   "outputs": [
    {
     "name": "stdout",
     "output_type": "stream",
     "text": [
      "Training Data Accuracy: 0.7700617283950617\n",
      "Test Data Accuracy: 0.8240740740740741\n",
      "[[118  18]\n",
      " [ 20  60]]\n",
      "              precision    recall  f1-score   support\n",
      "\n",
      "           0       0.86      0.87      0.86       136\n",
      "           1       0.77      0.75      0.76        80\n",
      "\n",
      "    accuracy                           0.82       216\n",
      "   macro avg       0.81      0.81      0.81       216\n",
      "weighted avg       0.82      0.82      0.82       216\n",
      "\n"
     ]
    }
   ],
   "source": [
    "#Create a svm Classifier\n",
    "clf_linear1 = svm.SVC(class_weight=None, C=1, gamma=0.1, kernel='linear', random_state=123)\n",
    "#Train the model using the training sets\n",
    "clf_linear1.fit(X_train, y_train)\n",
    "# Predict the response for the training dataset\n",
    "y_pred_train1 = clf_linear1.predict(X_train)\n",
    "# Predict the response for the test dataset\n",
    "y_predlin1 = clf_linear1.predict(X_test)\n",
    "\n",
    "# Calculate accuracy for the training data\n",
    "accuracy_train1 = accuracy_score(y_train, y_pred_train1)\n",
    "# Calculate accuracy for the test data\n",
    "accuracy_test1 = accuracy_score(y_test, y_predlin1)\n",
    "\n",
    "# Print the accuracy for training and test data\n",
    "print(\"Training Data Accuracy:\", accuracy_train1)\n",
    "print(\"Test Data Accuracy:\", accuracy_test1)\n",
    "\n",
    "print(confusion_matrix(y_test, y_predlin1))\n",
    "print(classification_report(y_test, y_predlin1))"
   ]
  },
  {
   "cell_type": "code",
   "execution_count": 23,
   "id": "74c79bf2",
   "metadata": {},
   "outputs": [
    {
     "name": "stdout",
     "output_type": "stream",
     "text": [
      "Training Data Accuracy: 0.7716049382716049\n",
      "Test Data Accuracy: 0.8240740740740741\n",
      "[[116  20]\n",
      " [ 18  62]]\n",
      "              precision    recall  f1-score   support\n",
      "\n",
      "           0       0.87      0.85      0.86       136\n",
      "           1       0.76      0.78      0.77        80\n",
      "\n",
      "    accuracy                           0.82       216\n",
      "   macro avg       0.81      0.81      0.81       216\n",
      "weighted avg       0.83      0.82      0.82       216\n",
      "\n"
     ]
    }
   ],
   "source": [
    "#Create a svm Classifier\n",
    "clf_linear2 = svm.SVC(class_weight='balanced', C=1, gamma=0.1, kernel='linear', random_state=123)\n",
    "#Train the model using the training sets\n",
    "clf_linear2.fit(X_train, y_train)\n",
    "\n",
    "# Predict the response for the training dataset\n",
    "y_pred_train2 = clf_linear2.predict(X_train)\n",
    "# Predict the response for the test dataset\n",
    "y_predlin2 = clf_linear2.predict(X_test)\n",
    "\n",
    "# Calculate accuracy for the training data\n",
    "accuracy_train2 = accuracy_score(y_train, y_pred_train2)\n",
    "# Calculate accuracy for the test data\n",
    "accuracy_test2 = accuracy_score(y_test, y_predlin2)\n",
    "\n",
    "# Print the accuracy for training and test data\n",
    "print(\"Training Data Accuracy:\", accuracy_train2)\n",
    "print(\"Test Data Accuracy:\", accuracy_test2)\n",
    "\n",
    "print(confusion_matrix(y_test, y_predlin2))\n",
    "print(classification_report(y_test, y_predlin2))"
   ]
  },
  {
   "cell_type": "markdown",
   "id": "4fb229a1",
   "metadata": {},
   "source": [
    "# LINEAR C=1, gamma=0.2"
   ]
  },
  {
   "cell_type": "code",
   "execution_count": 24,
   "id": "a75998eb",
   "metadata": {},
   "outputs": [
    {
     "name": "stdout",
     "output_type": "stream",
     "text": [
      "Training Data Accuracy: 0.7700617283950617\n",
      "Test Data Accuracy: 0.8240740740740741\n",
      "[[118  18]\n",
      " [ 20  60]]\n",
      "              precision    recall  f1-score   support\n",
      "\n",
      "           0       0.86      0.87      0.86       136\n",
      "           1       0.77      0.75      0.76        80\n",
      "\n",
      "    accuracy                           0.82       216\n",
      "   macro avg       0.81      0.81      0.81       216\n",
      "weighted avg       0.82      0.82      0.82       216\n",
      "\n"
     ]
    }
   ],
   "source": [
    "#Create a svm Classifier\n",
    "clf_linear3 = svm.SVC(class_weight=None, C=1, gamma=0.2, kernel='linear', random_state=123)\n",
    "#Train the model using the training sets\n",
    "clf_linear3.fit(X_train, y_train)\n",
    "\n",
    "# Predict the response for the training dataset\n",
    "y_pred_train3 = clf_linear3.predict(X_train)\n",
    "# Predict the response for the test dataset\n",
    "y_predlin3 = clf_linear3.predict(X_test)\n",
    "\n",
    "# Calculate accuracy for the training data\n",
    "accuracy_train3 = accuracy_score(y_train, y_pred_train3)\n",
    "# Calculate accuracy for the test data\n",
    "accuracy_test3 = accuracy_score(y_test, y_predlin3)\n",
    "\n",
    "# Print the accuracy for training and test data\n",
    "print(\"Training Data Accuracy:\", accuracy_train3)\n",
    "print(\"Test Data Accuracy:\", accuracy_test3)\n",
    "\n",
    "print(confusion_matrix(y_test, y_predlin3))\n",
    "print(classification_report(y_test, y_predlin3))"
   ]
  },
  {
   "cell_type": "code",
   "execution_count": 25,
   "id": "e1e2b6df",
   "metadata": {},
   "outputs": [
    {
     "name": "stdout",
     "output_type": "stream",
     "text": [
      "Training Data Accuracy: 0.7716049382716049\n",
      "Test Data Accuracy: 0.8240740740740741\n",
      "[[116  20]\n",
      " [ 18  62]]\n",
      "              precision    recall  f1-score   support\n",
      "\n",
      "           0       0.87      0.85      0.86       136\n",
      "           1       0.76      0.78      0.77        80\n",
      "\n",
      "    accuracy                           0.82       216\n",
      "   macro avg       0.81      0.81      0.81       216\n",
      "weighted avg       0.83      0.82      0.82       216\n",
      "\n"
     ]
    }
   ],
   "source": [
    "#Create a svm Classifier\n",
    "clf_linear4 = svm.SVC(class_weight='balanced', C=1, gamma=0.2, kernel='linear', random_state=123)\n",
    "#Train the model using the training sets\n",
    "clf_linear4.fit(X_train, y_train)\n",
    "\n",
    "# Predict the response for the training dataset\n",
    "y_pred_train4 = clf_linear4.predict(X_train)\n",
    "# Predict the response for the test dataset\n",
    "y_predlin4 = clf_linear4.predict(X_test)\n",
    "\n",
    "# Calculate accuracy for the training data\n",
    "accuracy_train4 = accuracy_score(y_train, y_pred_train4)\n",
    "# Calculate accuracy for the test data\n",
    "accuracy_test4 = accuracy_score(y_test, y_predlin4)\n",
    "\n",
    "# Print the accuracy for training and test data\n",
    "print(\"Training Data Accuracy:\", accuracy_train4)\n",
    "print(\"Test Data Accuracy:\", accuracy_test4)\n",
    "\n",
    "print(confusion_matrix(y_test, y_predlin4))\n",
    "print(classification_report(y_test, y_predlin4))"
   ]
  },
  {
   "cell_type": "markdown",
   "id": "232c0ba0",
   "metadata": {},
   "source": [
    "# LINEAR C=2, gamma=0.1"
   ]
  },
  {
   "cell_type": "code",
   "execution_count": 26,
   "id": "059db7a6",
   "metadata": {},
   "outputs": [
    {
     "name": "stdout",
     "output_type": "stream",
     "text": [
      "Training Data Accuracy: 0.7731481481481481\n",
      "Test Data Accuracy: 0.8287037037037037\n",
      "[[119  17]\n",
      " [ 20  60]]\n",
      "              precision    recall  f1-score   support\n",
      "\n",
      "           0       0.86      0.88      0.87       136\n",
      "           1       0.78      0.75      0.76        80\n",
      "\n",
      "    accuracy                           0.83       216\n",
      "   macro avg       0.82      0.81      0.81       216\n",
      "weighted avg       0.83      0.83      0.83       216\n",
      "\n"
     ]
    }
   ],
   "source": [
    "#Create a svm Classifier\n",
    "clf_linear5 = svm.SVC(class_weight=None, C=2, gamma=0.1, kernel='linear', random_state=123)\n",
    "#Train the model using the training sets\n",
    "clf_linear5.fit(X_train, y_train)\n",
    "\n",
    "# Predict the response for the training dataset\n",
    "y_pred_train5 = clf_linear5.predict(X_train)\n",
    "# Predict the response for the test dataset\n",
    "y_predlin5 = clf_linear5.predict(X_test)\n",
    "\n",
    "# Calculate accuracy for the training data\n",
    "accuracy_train5 = accuracy_score(y_train, y_pred_train5)\n",
    "# Calculate accuracy for the test data\n",
    "accuracy_test5 = accuracy_score(y_test, y_predlin5)\n",
    "\n",
    "# Print the accuracy for training and test data\n",
    "print(\"Training Data Accuracy:\", accuracy_train5)\n",
    "print(\"Test Data Accuracy:\", accuracy_test5)\n",
    "\n",
    "print(confusion_matrix(y_test, y_predlin5))\n",
    "print(classification_report(y_test, y_predlin5))"
   ]
  },
  {
   "cell_type": "code",
   "execution_count": 27,
   "id": "b1117eef",
   "metadata": {},
   "outputs": [
    {
     "name": "stdout",
     "output_type": "stream",
     "text": [
      "Training Data Accuracy: 0.7716049382716049\n",
      "Test Data Accuracy: 0.8240740740740741\n",
      "[[116  20]\n",
      " [ 18  62]]\n",
      "              precision    recall  f1-score   support\n",
      "\n",
      "           0       0.87      0.85      0.86       136\n",
      "           1       0.76      0.78      0.77        80\n",
      "\n",
      "    accuracy                           0.82       216\n",
      "   macro avg       0.81      0.81      0.81       216\n",
      "weighted avg       0.83      0.82      0.82       216\n",
      "\n"
     ]
    }
   ],
   "source": [
    "#Create a svm Classifier\n",
    "clf_linear6 = svm.SVC(class_weight='balanced', C=2, gamma=0.1, kernel='linear', random_state=123)\n",
    "#Train the model using the training sets\n",
    "clf_linear6.fit(X_train, y_train)\n",
    "\n",
    "# Predict the response for the training dataset\n",
    "y_pred_train6 = clf_linear6.predict(X_train)\n",
    "# Predict the response for the test dataset\n",
    "y_predlin6 = clf_linear6.predict(X_test)\n",
    "\n",
    "# Calculate accuracy for the training data\n",
    "accuracy_train6 = accuracy_score(y_train, y_pred_train6)\n",
    "# Calculate accuracy for the test data\n",
    "accuracy_test6 = accuracy_score(y_test, y_predlin6)\n",
    "\n",
    "# Print the accuracy for training and test data\n",
    "print(\"Training Data Accuracy:\", accuracy_train6)\n",
    "print(\"Test Data Accuracy:\", accuracy_test6)\n",
    "\n",
    "print(confusion_matrix(y_test, y_predlin6))\n",
    "print(classification_report(y_test, y_predlin6))"
   ]
  },
  {
   "cell_type": "markdown",
   "id": "ddca6946",
   "metadata": {},
   "source": [
    "# LINEAR C=2, gamma=0.2"
   ]
  },
  {
   "cell_type": "code",
   "execution_count": 28,
   "id": "33de75fe",
   "metadata": {},
   "outputs": [
    {
     "name": "stdout",
     "output_type": "stream",
     "text": [
      "Training Data Accuracy: 0.7731481481481481\n",
      "Test Data Accuracy: 0.8287037037037037\n",
      "[[119  17]\n",
      " [ 20  60]]\n",
      "              precision    recall  f1-score   support\n",
      "\n",
      "           0       0.86      0.88      0.87       136\n",
      "           1       0.78      0.75      0.76        80\n",
      "\n",
      "    accuracy                           0.83       216\n",
      "   macro avg       0.82      0.81      0.81       216\n",
      "weighted avg       0.83      0.83      0.83       216\n",
      "\n"
     ]
    }
   ],
   "source": [
    "#Create a svm Classifier\n",
    "clf_linear7 = svm.SVC(class_weight=None, C=2, gamma=0.2, kernel='linear', random_state=123)\n",
    "#Train the model using the training sets\n",
    "clf_linear7.fit(X_train, y_train)\n",
    "\n",
    "# Predict the response for the training dataset\n",
    "y_pred_train7 = clf_linear7.predict(X_train)\n",
    "# Predict the response for the test dataset\n",
    "y_predlin7 = clf_linear7.predict(X_test)\n",
    "\n",
    "# Calculate accuracy for the training data\n",
    "accuracy_train7 = accuracy_score(y_train, y_pred_train7)\n",
    "# Calculate accuracy for the test data\n",
    "accuracy_test7 = accuracy_score(y_test, y_predlin7)\n",
    "\n",
    "# Print the accuracy for training and test data\n",
    "print(\"Training Data Accuracy:\", accuracy_train7)\n",
    "print(\"Test Data Accuracy:\", accuracy_test7)\n",
    "\n",
    "print(confusion_matrix(y_test, y_predlin7))\n",
    "print(classification_report(y_test, y_predlin7))"
   ]
  },
  {
   "cell_type": "code",
   "execution_count": 29,
   "id": "b6196c4f",
   "metadata": {},
   "outputs": [
    {
     "name": "stdout",
     "output_type": "stream",
     "text": [
      "Training Data Accuracy: 0.7716049382716049\n",
      "Test Data Accuracy: 0.8240740740740741\n",
      "[[116  20]\n",
      " [ 18  62]]\n",
      "              precision    recall  f1-score   support\n",
      "\n",
      "           0       0.87      0.85      0.86       136\n",
      "           1       0.76      0.78      0.77        80\n",
      "\n",
      "    accuracy                           0.82       216\n",
      "   macro avg       0.81      0.81      0.81       216\n",
      "weighted avg       0.83      0.82      0.82       216\n",
      "\n"
     ]
    }
   ],
   "source": [
    "#Create a svm Classifier\n",
    "clf_linear8 = svm.SVC(class_weight='balanced', C=2, gamma=0.2, kernel='linear', random_state=123)\n",
    "#Train the model using the training sets\n",
    "clf_linear8.fit(X_train, y_train)\n",
    "\n",
    "# Predict the response for the training dataset\n",
    "y_pred_train8 = clf_linear8.predict(X_train)\n",
    "# Predict the response for the test dataset\n",
    "y_predlin8 = clf_linear8.predict(X_test)\n",
    "\n",
    "# Calculate accuracy for the training data\n",
    "accuracy_train8 = accuracy_score(y_train, y_pred_train8)\n",
    "# Calculate accuracy for the test data\n",
    "accuracy_test8 = accuracy_score(y_test, y_predlin8)\n",
    "\n",
    "# Print the accuracy for training and test data\n",
    "print(\"Training Data Accuracy:\", accuracy_train8)\n",
    "print(\"Test Data Accuracy:\", accuracy_test8)\n",
    "\n",
    "print(confusion_matrix(y_test, y_predlin8))\n",
    "print(classification_report(y_test, y_predlin8))"
   ]
  },
  {
   "cell_type": "markdown",
   "id": "bd714250",
   "metadata": {},
   "source": [
    "# C=3, gamma=0.1"
   ]
  },
  {
   "cell_type": "code",
   "execution_count": 30,
   "id": "429f87da",
   "metadata": {},
   "outputs": [
    {
     "name": "stdout",
     "output_type": "stream",
     "text": [
      "Training Data Accuracy: 0.7731481481481481\n",
      "Test Data Accuracy: 0.8287037037037037\n",
      "[[119  17]\n",
      " [ 20  60]]\n",
      "              precision    recall  f1-score   support\n",
      "\n",
      "           0       0.86      0.88      0.87       136\n",
      "           1       0.78      0.75      0.76        80\n",
      "\n",
      "    accuracy                           0.83       216\n",
      "   macro avg       0.82      0.81      0.81       216\n",
      "weighted avg       0.83      0.83      0.83       216\n",
      "\n"
     ]
    }
   ],
   "source": [
    "#Create a svm Classifier\n",
    "clf_linear9 = svm.SVC(class_weight=None, C=3, gamma=0.1, kernel='linear', random_state=123)\n",
    "#Train the model using the training sets\n",
    "clf_linear9.fit(X_train, y_train)\n",
    "\n",
    "# Predict the response for the training dataset\n",
    "y_pred_train9 = clf_linear9.predict(X_train)\n",
    "# Predict the response for the test dataset\n",
    "y_predlin9 = clf_linear9.predict(X_test)\n",
    "\n",
    "# Calculate accuracy for the training data\n",
    "accuracy_train9 = accuracy_score(y_train, y_pred_train9)\n",
    "# Calculate accuracy for the test data\n",
    "accuracy_test9 = accuracy_score(y_test, y_predlin9)\n",
    "\n",
    "# Print the accuracy for training and test data\n",
    "print(\"Training Data Accuracy:\", accuracy_train9)\n",
    "print(\"Test Data Accuracy:\", accuracy_test9)\n",
    "\n",
    "print(confusion_matrix(y_test, y_predlin9))\n",
    "print(classification_report(y_test, y_predlin9))"
   ]
  },
  {
   "cell_type": "code",
   "execution_count": 31,
   "id": "23a44a34",
   "metadata": {},
   "outputs": [
    {
     "name": "stdout",
     "output_type": "stream",
     "text": [
      "Training Data Accuracy: 0.7716049382716049\n",
      "Test Data Accuracy: 0.8240740740740741\n",
      "[[116  20]\n",
      " [ 18  62]]\n",
      "              precision    recall  f1-score   support\n",
      "\n",
      "           0       0.87      0.85      0.86       136\n",
      "           1       0.76      0.78      0.77        80\n",
      "\n",
      "    accuracy                           0.82       216\n",
      "   macro avg       0.81      0.81      0.81       216\n",
      "weighted avg       0.83      0.82      0.82       216\n",
      "\n"
     ]
    }
   ],
   "source": [
    "#Create a svm Classifier\n",
    "clf_linear10 = svm.SVC(class_weight='balanced', C=3, gamma=0.1, kernel='linear', random_state=123)\n",
    "#Train the model using the training sets\n",
    "clf_linear10.fit(X_train, y_train)\n",
    "\n",
    "# Predict the response for the training dataset\n",
    "y_pred_train10 = clf_linear10.predict(X_train)\n",
    "# Predict the response for the test dataset\n",
    "y_predlin10 = clf_linear10.predict(X_test)\n",
    "\n",
    "# Calculate accuracy for the training data\n",
    "accuracy_train10 = accuracy_score(y_train, y_pred_train10)\n",
    "# Calculate accuracy for the test data\n",
    "accuracy_test10 = accuracy_score(y_test, y_predlin10)\n",
    "\n",
    "# Print the accuracy for training and test data\n",
    "print(\"Training Data Accuracy:\", accuracy_train10)\n",
    "print(\"Test Data Accuracy:\", accuracy_test10)\n",
    "\n",
    "print(confusion_matrix(y_test, y_predlin10))\n",
    "print(classification_report(y_test, y_predlin10))"
   ]
  },
  {
   "cell_type": "markdown",
   "id": "7351175d",
   "metadata": {},
   "source": [
    "# C=4, gamma=0.3"
   ]
  },
  {
   "cell_type": "code",
   "execution_count": 32,
   "id": "2cd6577b",
   "metadata": {},
   "outputs": [
    {
     "name": "stdout",
     "output_type": "stream",
     "text": [
      "Training Data Accuracy: 0.7731481481481481\n",
      "Test Data Accuracy: 0.8287037037037037\n",
      "[[119  17]\n",
      " [ 20  60]]\n",
      "              precision    recall  f1-score   support\n",
      "\n",
      "           0       0.86      0.88      0.87       136\n",
      "           1       0.78      0.75      0.76        80\n",
      "\n",
      "    accuracy                           0.83       216\n",
      "   macro avg       0.82      0.81      0.81       216\n",
      "weighted avg       0.83      0.83      0.83       216\n",
      "\n"
     ]
    }
   ],
   "source": [
    "#Create a svm Classifier\n",
    "clf_linear11 = svm.SVC(class_weight=None, C=4, gamma=0.3, kernel='linear', random_state=123)\n",
    "#Train the model using the training sets\n",
    "clf_linear11.fit(X_train, y_train)\n",
    "\n",
    "# Predict the response for the training dataset\n",
    "y_pred_train11 = clf_linear11.predict(X_train)\n",
    "# Predict the response for the test dataset\n",
    "y_predlin11 = clf_linear11.predict(X_test)\n",
    "\n",
    "# Calculate accuracy for the training data\n",
    "accuracy_train11 = accuracy_score(y_train, y_pred_train11)\n",
    "# Calculate accuracy for the test data\n",
    "accuracy_test11 = accuracy_score(y_test, y_predlin11)\n",
    "\n",
    "# Print the accuracy for training and test data\n",
    "print(\"Training Data Accuracy:\", accuracy_train11)\n",
    "print(\"Test Data Accuracy:\", accuracy_test11)\n",
    "\n",
    "print(confusion_matrix(y_test, y_predlin11))\n",
    "print(classification_report(y_test, y_predlin11))"
   ]
  },
  {
   "cell_type": "code",
   "execution_count": 33,
   "id": "76e47353",
   "metadata": {},
   "outputs": [
    {
     "name": "stdout",
     "output_type": "stream",
     "text": [
      "Training Data Accuracy: 0.7716049382716049\n",
      "Test Data Accuracy: 0.8240740740740741\n",
      "[[116  20]\n",
      " [ 18  62]]\n",
      "              precision    recall  f1-score   support\n",
      "\n",
      "           0       0.87      0.85      0.86       136\n",
      "           1       0.76      0.78      0.77        80\n",
      "\n",
      "    accuracy                           0.82       216\n",
      "   macro avg       0.81      0.81      0.81       216\n",
      "weighted avg       0.83      0.82      0.82       216\n",
      "\n"
     ]
    }
   ],
   "source": [
    "#Create a svm Classifier\n",
    "clf_linear12 = svm.SVC(class_weight='balanced', C=4, gamma=0.3, kernel='linear', random_state=123)\n",
    "#Train the model using the training sets\n",
    "clf_linear12.fit(X_train, y_train)\n",
    "\n",
    "# Predict the response for the training dataset\n",
    "y_pred_train12 = clf_linear12.predict(X_train)\n",
    "# Predict the response for the test dataset\n",
    "y_predlin12 = clf_linear12.predict(X_test)\n",
    "\n",
    "# Calculate accuracy for the training data\n",
    "accuracy_train12 = accuracy_score(y_train, y_pred_train12)\n",
    "# Calculate accuracy for the test data\n",
    "accuracy_test12 = accuracy_score(y_test, y_predlin12)\n",
    "\n",
    "# Print the accuracy for training and test data\n",
    "print(\"Training Data Accuracy:\", accuracy_train12)\n",
    "print(\"Test Data Accuracy:\", accuracy_test12)\n",
    "\n",
    "print(confusion_matrix(y_test, y_predlin12))\n",
    "print(classification_report(y_test, y_predlin12))"
   ]
  },
  {
   "cell_type": "markdown",
   "id": "eacd664c",
   "metadata": {},
   "source": [
    "# Kernel Poly"
   ]
  },
  {
   "cell_type": "code",
   "execution_count": 46,
   "id": "14c3bcb8",
   "metadata": {},
   "outputs": [
    {
     "name": "stdout",
     "output_type": "stream",
     "text": [
      "Training Data Accuracy: 0.6759259259259259\n",
      "Test Data Accuracy: 0.6851851851851852\n",
      "[[130   6]\n",
      " [ 62  18]]\n",
      "              precision    recall  f1-score   support\n",
      "\n",
      "           0       0.68      0.96      0.79       136\n",
      "           1       0.75      0.23      0.35        80\n",
      "\n",
      "    accuracy                           0.69       216\n",
      "   macro avg       0.71      0.59      0.57       216\n",
      "weighted avg       0.70      0.69      0.63       216\n",
      "\n"
     ]
    }
   ],
   "source": [
    "#Create a svm Classifier\n",
    "clf_poly1 = svm.SVC(kernel='poly', random_state=123)\n",
    "#Train the model using the training sets\n",
    "clf_poly1.fit(X_train, y_train)\n",
    "\n",
    "# Predict the response for the training dataset\n",
    "y_pred_trainpoly1 = clf_poly1.predict(X_train)\n",
    "# Predict the response for the test dataset\n",
    "y_predpoly1 = clf_poly1.predict(X_test)\n",
    "\n",
    "# Calculate accuracy for the training data\n",
    "accuracy_trainpoly1 = accuracy_score(y_train, y_pred_trainpoly1)\n",
    "# Calculate accuracy for the test data\n",
    "accuracy_testpoly1 = accuracy_score(y_test, y_predpoly1)\n",
    "\n",
    "# Print the accuracy for training and test data\n",
    "print(\"Training Data Accuracy:\", accuracy_trainpoly1)\n",
    "print(\"Test Data Accuracy:\", accuracy_testpoly1)\n",
    "\n",
    "print(confusion_matrix(y_test, y_predpoly1))\n",
    "print(classification_report(y_test, y_predpoly1))"
   ]
  },
  {
   "cell_type": "markdown",
   "id": "a1df96f3",
   "metadata": {},
   "source": [
    "# C=1, gamma=0.1"
   ]
  },
  {
   "cell_type": "code",
   "execution_count": 48,
   "id": "37ee859f",
   "metadata": {},
   "outputs": [
    {
     "name": "stdout",
     "output_type": "stream",
     "text": [
      "Training Data Accuracy: 0.7885802469135802\n",
      "Test Data Accuracy: 0.8055555555555556\n",
      "[[113  23]\n",
      " [ 19  61]]\n",
      "              precision    recall  f1-score   support\n",
      "\n",
      "           0       0.86      0.83      0.84       136\n",
      "           1       0.73      0.76      0.74        80\n",
      "\n",
      "    accuracy                           0.81       216\n",
      "   macro avg       0.79      0.80      0.79       216\n",
      "weighted avg       0.81      0.81      0.81       216\n",
      "\n"
     ]
    }
   ],
   "source": [
    "#Create a svm Classifier\n",
    "clf_poly2 = svm.SVC(class_weight=None, C=1, gamma=0.1, kernel='poly', random_state=123)\n",
    "#Train the model using the training sets\n",
    "clf_poly2.fit(X_train, y_train)\n",
    "\n",
    "# Predict the response for the training dataset\n",
    "y_pred_trainpoly2 = clf_poly2.predict(X_train)\n",
    "# Predict the response for the test dataset\n",
    "y_predpoly2 = clf_poly2.predict(X_test)\n",
    "\n",
    "# Calculate accuracy for the training data\n",
    "accuracy_trainpoly2 = accuracy_score(y_train, y_pred_trainpoly2)\n",
    "# Calculate accuracy for the test data\n",
    "accuracy_testpoly2 = accuracy_score(y_test, y_predpoly2)\n",
    "\n",
    "# Print the accuracy for training and test data\n",
    "print(\"Training Data Accuracy:\", accuracy_trainpoly2)\n",
    "print(\"Test Data Accuracy:\", accuracy_testpoly2)\n",
    "\n",
    "print(confusion_matrix(y_test, y_predpoly2))\n",
    "print(classification_report(y_test, y_predpoly2))"
   ]
  },
  {
   "cell_type": "code",
   "execution_count": 49,
   "id": "33c678d5",
   "metadata": {},
   "outputs": [
    {
     "name": "stdout",
     "output_type": "stream",
     "text": [
      "Training Data Accuracy: 0.7716049382716049\n",
      "Test Data Accuracy: 0.8055555555555556\n",
      "[[108  28]\n",
      " [ 14  66]]\n",
      "              precision    recall  f1-score   support\n",
      "\n",
      "           0       0.89      0.79      0.84       136\n",
      "           1       0.70      0.82      0.76        80\n",
      "\n",
      "    accuracy                           0.81       216\n",
      "   macro avg       0.79      0.81      0.80       216\n",
      "weighted avg       0.82      0.81      0.81       216\n",
      "\n"
     ]
    }
   ],
   "source": [
    "#Create a svm Classifier\n",
    "clf_poly3 = svm.SVC(class_weight='balanced', C=1, gamma=0.1, kernel='poly', random_state=123)\n",
    "#Train the model using the training sets\n",
    "clf_poly3.fit(X_train, y_train)\n",
    "\n",
    "# Predict the response for the training dataset\n",
    "y_pred_trainpoly3 = clf_poly3.predict(X_train)\n",
    "# Predict the response for the test dataset\n",
    "y_predpoly3 = clf_poly3.predict(X_test)\n",
    "\n",
    "# Calculate accuracy for the training data\n",
    "accuracy_trainpoly3 = accuracy_score(y_train, y_pred_trainpoly3)\n",
    "# Calculate accuracy for the test data\n",
    "accuracy_testpoly3 = accuracy_score(y_test, y_predpoly3)\n",
    "\n",
    "# Print the accuracy for training and test data\n",
    "print(\"Training Data Accuracy:\", accuracy_trainpoly3)\n",
    "print(\"Test Data Accuracy:\", accuracy_testpoly3)\n",
    "\n",
    "print(confusion_matrix(y_test, y_predpoly3))\n",
    "print(classification_report(y_test, y_predpoly3))"
   ]
  },
  {
   "cell_type": "markdown",
   "id": "f1c76a43",
   "metadata": {},
   "source": [
    "# C=2, gamma=0.1"
   ]
  },
  {
   "cell_type": "code",
   "execution_count": 50,
   "id": "f98e0a5a",
   "metadata": {},
   "outputs": [
    {
     "name": "stdout",
     "output_type": "stream",
     "text": [
      "Training Data Accuracy: 0.7839506172839507\n",
      "Test Data Accuracy: 0.8101851851851852\n",
      "[[108  28]\n",
      " [ 14  66]]\n",
      "              precision    recall  f1-score   support\n",
      "\n",
      "           0       0.89      0.79      0.84       136\n",
      "           1       0.70      0.82      0.76        80\n",
      "\n",
      "    accuracy                           0.81       216\n",
      "   macro avg       0.79      0.81      0.80       216\n",
      "weighted avg       0.82      0.81      0.81       216\n",
      "\n"
     ]
    }
   ],
   "source": [
    "#Create a svm Classifier\n",
    "clf_poly4 = svm.SVC(class_weight=None, C=2, gamma=0.1, kernel='poly', random_state=123)\n",
    "#Train the model using the training sets\n",
    "clf_poly4.fit(X_train, y_train)\n",
    "\n",
    "# Predict the response for the training dataset\n",
    "y_pred_trainpoly4 = clf_poly4.predict(X_train)\n",
    "# Predict the response for the test dataset\n",
    "y_predpoly4 = clf_poly4.predict(X_test)\n",
    "\n",
    "# Calculate accuracy for the training data\n",
    "accuracy_trainpoly4 = accuracy_score(y_train, y_pred_trainpoly4)\n",
    "# Calculate accuracy for the test data\n",
    "accuracy_testpoly4 = accuracy_score(y_test, y_predpoly4)\n",
    "\n",
    "# Print the accuracy for training and test data\n",
    "print(\"Training Data Accuracy:\", accuracy_trainpoly4)\n",
    "print(\"Test Data Accuracy:\", accuracy_testpoly4)\n",
    "\n",
    "print(confusion_matrix(y_test, y_predpoly3))\n",
    "print(classification_report(y_test, y_predpoly3))"
   ]
  },
  {
   "cell_type": "code",
   "execution_count": 34,
   "id": "5043f816",
   "metadata": {},
   "outputs": [
    {
     "name": "stdout",
     "output_type": "stream",
     "text": [
      "Training Data Accuracy: 0.7654320987654321\n",
      "Test Data Accuracy: 0.7731481481481481\n",
      "[[104  32]\n",
      " [ 17  63]]\n",
      "              precision    recall  f1-score   support\n",
      "\n",
      "           0       0.86      0.76      0.81       136\n",
      "           1       0.66      0.79      0.72        80\n",
      "\n",
      "    accuracy                           0.77       216\n",
      "   macro avg       0.76      0.78      0.76       216\n",
      "weighted avg       0.79      0.77      0.78       216\n",
      "\n"
     ]
    }
   ],
   "source": [
    "#Create a svm Classifier\n",
    "clf_poly5 = svm.SVC(class_weight='balanced', C=2, gamma=0.1, kernel='poly', random_state=123)\n",
    "#Train the model using the training sets\n",
    "clf_poly5.fit(X_train, y_train)\n",
    "\n",
    "# Predict the response for the training dataset\n",
    "y_pred_trainpoly5 = clf_poly5.predict(X_train)\n",
    "# Predict the response for the test dataset\n",
    "y_predpoly5 = clf_poly5.predict(X_test)\n",
    "\n",
    "# Calculate accuracy for the training data\n",
    "accuracy_trainpoly5 = accuracy_score(y_train, y_pred_trainpoly5)\n",
    "# Calculate accuracy for the test data\n",
    "accuracy_testpoly5 = accuracy_score(y_test, y_predpoly5)\n",
    "\n",
    "# Print the accuracy for training and test data\n",
    "print(\"Training Data Accuracy:\", accuracy_trainpoly5)\n",
    "print(\"Test Data Accuracy:\", accuracy_testpoly5)\n",
    "\n",
    "print(confusion_matrix(y_test, y_predpoly5))\n",
    "print(classification_report(y_test, y_predpoly5))"
   ]
  },
  {
   "cell_type": "markdown",
   "id": "862087be",
   "metadata": {},
   "source": [
    "# C=3, gamma=0.1"
   ]
  },
  {
   "cell_type": "code",
   "execution_count": 35,
   "id": "b693b227",
   "metadata": {},
   "outputs": [
    {
     "name": "stdout",
     "output_type": "stream",
     "text": [
      "Training Data Accuracy: 0.7824074074074074\n",
      "Test Data Accuracy: 0.8101851851851852\n",
      "[[112  24]\n",
      " [ 17  63]]\n",
      "              precision    recall  f1-score   support\n",
      "\n",
      "           0       0.87      0.82      0.85       136\n",
      "           1       0.72      0.79      0.75        80\n",
      "\n",
      "    accuracy                           0.81       216\n",
      "   macro avg       0.80      0.81      0.80       216\n",
      "weighted avg       0.81      0.81      0.81       216\n",
      "\n"
     ]
    }
   ],
   "source": [
    "#Create a svm Classifier\n",
    "clf_poly6 = svm.SVC(class_weight=None, C=3, gamma=0.1, kernel='poly', random_state=123)\n",
    "#Train the model using the training sets\n",
    "clf_poly6.fit(X_train, y_train)\n",
    "\n",
    "# Predict the response for the training dataset\n",
    "y_pred_trainpoly6 = clf_poly6.predict(X_train)\n",
    "# Predict the response for the test dataset\n",
    "y_predpoly6 = clf_poly6.predict(X_test)\n",
    "\n",
    "# Calculate accuracy for the training data\n",
    "accuracy_trainpoly6 = accuracy_score(y_train, y_pred_trainpoly6)\n",
    "# Calculate accuracy for the test data\n",
    "accuracy_testpoly6 = accuracy_score(y_test, y_predpoly6)\n",
    "\n",
    "# Print the accuracy for training and test data\n",
    "print(\"Training Data Accuracy:\", accuracy_trainpoly6)\n",
    "print(\"Test Data Accuracy:\", accuracy_testpoly6)\n",
    "\n",
    "print(confusion_matrix(y_test, y_predpoly6))\n",
    "print(classification_report(y_test, y_predpoly6))"
   ]
  },
  {
   "cell_type": "code",
   "execution_count": null,
   "id": "df72ddef",
   "metadata": {},
   "outputs": [],
   "source": [
    "#Create a svm Classifier\n",
    "clf_poly7 = svm.SVC(class_weight='balanced', C=3, gamma=0.1, kernel='poly', random_state=123)\n",
    "#Train the model using the training sets\n",
    "clf_poly7.fit(X_train, y_train)\n",
    "\n",
    "# Predict the response for the training dataset\n",
    "y_pred_trainpoly7 = clf_poly7.predict(X_train)\n",
    "# Predict the response for the test dataset\n",
    "y_predpoly7 = clf_poly7.predict(X_test)\n",
    "\n",
    "# Calculate accuracy for the training data\n",
    "accuracy_trainpoly7 = accuracy_score(y_train, y_pred_trainpoly7)\n",
    "# Calculate accuracy for the test data\n",
    "accuracy_testpoly7 = accuracy_score(y_test, y_predpoly7)\n",
    "\n",
    "# Print the accuracy for training and test data\n",
    "print(\"Training Data Accuracy:\", accuracy_trainpoly7)\n",
    "print(\"Test Data Accuracy:\", accuracy_testpoly7)\n",
    "\n",
    "print(confusion_matrix(y_test, y_predpoly7))\n",
    "print(classification_report(y_test, y_predpoly7))"
   ]
  },
  {
   "cell_type": "markdown",
   "id": "2e64d411",
   "metadata": {},
   "source": [
    "# C=1, gamma=0.3"
   ]
  },
  {
   "cell_type": "code",
   "execution_count": null,
   "id": "cc5ad66d",
   "metadata": {},
   "outputs": [],
   "source": [
    "#Create a svm Classifier\n",
    "clf_poly8 = svm.SVC(class_weight=None, C=1, gamma=0.3, kernel='poly', random_state=123)\n",
    "#Train the model using the training sets\n",
    "clf_poly8.fit(X_train, y_train)\n",
    "\n",
    "# Predict the response for the training dataset\n",
    "y_pred_trainpoly8 = clf_poly8.predict(X_train)\n",
    "# Predict the response for the test dataset\n",
    "y_predpoly8 = clf_poly8.predict(X_test)\n",
    "\n",
    "# Calculate accuracy for the training data\n",
    "accuracy_trainpoly8 = accuracy_score(y_train, y_pred_trainpoly8)\n",
    "# Calculate accuracy for the test data\n",
    "accuracy_testpoly8 = accuracy_score(y_test, y_predpoly8)\n",
    "\n",
    "# Print the accuracy for training and test data\n",
    "print(\"Training Data Accuracy:\", accuracy_trainpoly8)\n",
    "print(\"Test Data Accuracy:\", accuracy_testpoly8)\n",
    "\n",
    "print(confusion_matrix(y_test, y_predpoly8))\n",
    "print(classification_report(y_test, y_predpoly8))"
   ]
  },
  {
   "cell_type": "code",
   "execution_count": null,
   "id": "b3666729",
   "metadata": {},
   "outputs": [],
   "source": [
    "#Create a svm Classifier\n",
    "clf_poly9= svm.SVC(class_weight='balanced', C=1, gamma=0.3, kernel='poly', random_state=123)\n",
    "#Train the model using the training sets\n",
    "clf_poly9.fit(X_train, y_train)\n",
    "\n",
    "# Predict the response for the training dataset\n",
    "y_pred_trainpoly9 = clf_poly9.predict(X_train)\n",
    "# Predict the response for the test dataset\n",
    "y_predpoly9 = clf_poly9.predict(X_test)\n",
    "\n",
    "# Calculate accuracy for the training data\n",
    "accuracy_trainpoly9 = accuracy_score(y_train, y_pred_trainpoly9)\n",
    "# Calculate accuracy for the test data\n",
    "accuracy_testpoly9 = accuracy_score(y_test, y_predpoly9)\n",
    "\n",
    "# Print the accuracy for training and test data\n",
    "print(\"Training Data Accuracy:\", accuracy_trainpoly9)\n",
    "print(\"Test Data Accuracy:\", accuracy_testpoly9)\n",
    "\n",
    "print(confusion_matrix(y_test, y_predpoly9))\n",
    "print(classification_report(y_test, y_predpoly9))"
   ]
  },
  {
   "cell_type": "markdown",
   "id": "21324b1d",
   "metadata": {},
   "source": [
    "# Kernel RBF"
   ]
  },
  {
   "cell_type": "code",
   "execution_count": 23,
   "id": "bc66ce7f",
   "metadata": {},
   "outputs": [
    {
     "name": "stdout",
     "output_type": "stream",
     "text": [
      "Training Data Accuracy: 0.6882716049382716\n",
      "Test Data Accuracy: 0.6574074074074074\n",
      "[[121  15]\n",
      " [ 59  21]]\n",
      "              precision    recall  f1-score   support\n",
      "\n",
      "           0       0.67      0.89      0.77       136\n",
      "           1       0.58      0.26      0.36        80\n",
      "\n",
      "    accuracy                           0.66       216\n",
      "   macro avg       0.63      0.58      0.56       216\n",
      "weighted avg       0.64      0.66      0.62       216\n",
      "\n"
     ]
    }
   ],
   "source": [
    "#Create a svm Classifier\n",
    "clf_rbf1 = svm.SVC(class_weight=None, kernel='rbf', random_state=123)\n",
    "#Train the model using the training sets\n",
    "clf_rbf1.fit(X_train, y_train)\n",
    "\n",
    "# Predict the response for the training dataset\n",
    "y_pred_trainrbf1 = clf_rbf1.predict(X_train)\n",
    "# Predict the response for the test dataset\n",
    "y_predrbf1 = clf_rbf1.predict(X_test)\n",
    "\n",
    "# Calculate accuracy for the training data\n",
    "accuracy_trainrbf1  = accuracy_score(y_train, y_pred_trainrbf1)\n",
    "# Calculate accuracy for the test data\n",
    "accuracy_testrbf1  = accuracy_score(y_test, y_predrbf1)\n",
    "\n",
    "# Print the accuracy for training and test data\n",
    "print(\"Training Data Accuracy:\", accuracy_trainrbf1)\n",
    "print(\"Test Data Accuracy:\", accuracy_testrbf1)\n",
    "\n",
    "print(confusion_matrix(y_test, y_predrbf1))\n",
    "print(classification_report(y_test, y_predrbf1))"
   ]
  },
  {
   "cell_type": "markdown",
   "id": "7bbffc81",
   "metadata": {},
   "source": [
    "# C=1, gamma=0,1"
   ]
  },
  {
   "cell_type": "code",
   "execution_count": 25,
   "id": "f8d0dcda",
   "metadata": {},
   "outputs": [
    {
     "name": "stdout",
     "output_type": "stream",
     "text": [
      "Training Data Accuracy: 0.8780864197530864\n",
      "Test Data Accuracy: 0.7037037037037037\n",
      "[[111  25]\n",
      " [ 39  41]]\n",
      "              precision    recall  f1-score   support\n",
      "\n",
      "           0       0.74      0.82      0.78       136\n",
      "           1       0.62      0.51      0.56        80\n",
      "\n",
      "    accuracy                           0.70       216\n",
      "   macro avg       0.68      0.66      0.67       216\n",
      "weighted avg       0.70      0.70      0.70       216\n",
      "\n"
     ]
    }
   ],
   "source": [
    "#Create a svm Classifier\n",
    "clf_rbf2 = svm.SVC(class_weight=None, C=1, gamma=0.1, kernel='rbf', random_state=123)\n",
    "#Train the model using the training sets\n",
    "clf_rbf2.fit(X_train, y_train)\n",
    "\n",
    "# Predict the response for the training dataset\n",
    "y_pred_trainrbf2 = clf_rbf2.predict(X_train)\n",
    "# Predict the response for the test dataset\n",
    "y_predrbf2 = clf_rbf2.predict(X_test)\n",
    "\n",
    "# Calculate accuracy for the training data\n",
    "accuracy_trainrbf2  = accuracy_score(y_train, y_pred_trainrbf2)\n",
    "# Calculate accuracy for the test data\n",
    "accuracy_testrbf2  = accuracy_score(y_test, y_predrbf2 )\n",
    "\n",
    "# Print the accuracy for training and test data\n",
    "print(\"Training Data Accuracy:\", accuracy_trainrbf2 )\n",
    "print(\"Test Data Accuracy:\", accuracy_testrbf2 )\n",
    "\n",
    "print(confusion_matrix(y_test, y_predrbf2))\n",
    "print(classification_report(y_test, y_predrbf2))"
   ]
  },
  {
   "cell_type": "code",
   "execution_count": 26,
   "id": "5c0b48fb",
   "metadata": {},
   "outputs": [
    {
     "name": "stdout",
     "output_type": "stream",
     "text": [
      "Training Data Accuracy: 0.8641975308641975\n",
      "Test Data Accuracy: 0.7175925925925926\n",
      "[[102  34]\n",
      " [ 27  53]]\n",
      "              precision    recall  f1-score   support\n",
      "\n",
      "           0       0.79      0.75      0.77       136\n",
      "           1       0.61      0.66      0.63        80\n",
      "\n",
      "    accuracy                           0.72       216\n",
      "   macro avg       0.70      0.71      0.70       216\n",
      "weighted avg       0.72      0.72      0.72       216\n",
      "\n"
     ]
    }
   ],
   "source": [
    "#Create a svm Classifier\n",
    "clf_rbf3 = svm.SVC(class_weight='balanced', C=1, gamma=0.1, kernel='rbf', random_state=123)\n",
    "#Train the model using the training sets\n",
    "clf_rbf3.fit(X_train, y_train)\n",
    "\n",
    "# Predict the response for the training dataset\n",
    "y_pred_trainrbf3 = clf_rbf3.predict(X_train)\n",
    "# Predict the response for the test dataset\n",
    "y_predrbf3 = clf_rbf3.predict(X_test)\n",
    "\n",
    "# Calculate accuracy for the training data\n",
    "accuracy_trainrbf3  = accuracy_score(y_train, y_pred_trainrbf3)\n",
    "# Calculate accuracy for the test data\n",
    "accuracy_testrbf3  = accuracy_score(y_test, y_predrbf3 )\n",
    "\n",
    "# Print the accuracy for training and test data\n",
    "print(\"Training Data Accuracy:\", accuracy_trainrbf3 )\n",
    "print(\"Test Data Accuracy:\", accuracy_testrbf3 )\n",
    "\n",
    "print(confusion_matrix(y_test, y_predrbf3))\n",
    "print(classification_report(y_test, y_predrbf3))"
   ]
  },
  {
   "cell_type": "markdown",
   "id": "6ea35834",
   "metadata": {},
   "source": [
    "# C=1, gamma=0.2"
   ]
  },
  {
   "cell_type": "code",
   "execution_count": 27,
   "id": "0f68b430",
   "metadata": {},
   "outputs": [
    {
     "name": "stdout",
     "output_type": "stream",
     "text": [
      "Training Data Accuracy: 0.9074074074074074\n",
      "Test Data Accuracy: 0.6759259259259259\n",
      "[[111  25]\n",
      " [ 45  35]]\n",
      "              precision    recall  f1-score   support\n",
      "\n",
      "           0       0.71      0.82      0.76       136\n",
      "           1       0.58      0.44      0.50        80\n",
      "\n",
      "    accuracy                           0.68       216\n",
      "   macro avg       0.65      0.63      0.63       216\n",
      "weighted avg       0.66      0.68      0.66       216\n",
      "\n"
     ]
    }
   ],
   "source": [
    "#Create a svm Classifier\n",
    "clf_rbf4 = svm.SVC(class_weight=None, C=1, gamma=0.2, kernel='rbf', random_state=123)\n",
    "#Train the model using the training sets\n",
    "clf_rbf4.fit(X_train, y_train)\n",
    "\n",
    "# Predict the response for the training dataset\n",
    "y_pred_trainrbf4 = clf_rbf4.predict(X_train)\n",
    "# Predict the response for the test dataset\n",
    "y_predrbf4 = clf_rbf4.predict(X_test)\n",
    "\n",
    "# Calculate accuracy for the training data\n",
    "accuracy_trainrbf4  = accuracy_score(y_train, y_pred_trainrbf4)\n",
    "# Calculate accuracy for the test data\n",
    "accuracy_testrbf4  = accuracy_score(y_test, y_predrbf4)\n",
    "\n",
    "# Print the accuracy for training and test data\n",
    "print(\"Training Data Accuracy:\", accuracy_trainrbf4)\n",
    "print(\"Test Data Accuracy:\", accuracy_testrbf4)\n",
    "\n",
    "print(confusion_matrix(y_test, y_predrbf4))\n",
    "print(classification_report(y_test, y_predrbf4))"
   ]
  },
  {
   "cell_type": "code",
   "execution_count": 28,
   "id": "4521d3d5",
   "metadata": {},
   "outputs": [
    {
     "name": "stdout",
     "output_type": "stream",
     "text": [
      "Training Data Accuracy: 0.9104938271604939\n",
      "Test Data Accuracy: 0.7175925925925926\n",
      "[[102  34]\n",
      " [ 27  53]]\n",
      "              precision    recall  f1-score   support\n",
      "\n",
      "           0       0.79      0.75      0.77       136\n",
      "           1       0.61      0.66      0.63        80\n",
      "\n",
      "    accuracy                           0.72       216\n",
      "   macro avg       0.70      0.71      0.70       216\n",
      "weighted avg       0.72      0.72      0.72       216\n",
      "\n"
     ]
    }
   ],
   "source": [
    "#Create a svm Classifier\n",
    "clf_rbf5 = svm.SVC(class_weight='balanced', C=1, gamma=0.2, kernel='rbf', random_state=123)\n",
    "#Train the model using the training sets\n",
    "clf_rbf5.fit(X_train, y_train)\n",
    "\n",
    "# Predict the response for the training dataset\n",
    "y_pred_trainrbf5 = clf_rbf5.predict(X_train)\n",
    "# Predict the response for the test dataset\n",
    "y_predrbf5 = clf_rbf5.predict(X_test)\n",
    "\n",
    "# Calculate accuracy for the training data\n",
    "accuracy_trainrbf5  = accuracy_score(y_train, y_pred_trainrbf5)\n",
    "# Calculate accuracy for the test data\n",
    "accuracy_testrbf5  = accuracy_score(y_test, y_predrbf5)\n",
    "\n",
    "# Print the accuracy for training and test data\n",
    "print(\"Training Data Accuracy:\", accuracy_trainrbf5)\n",
    "print(\"Test Data Accuracy:\", accuracy_testrbf5)\n",
    "\n",
    "print(confusion_matrix(y_test, y_predrbf5))\n",
    "print(classification_report(y_test, y_predrbf5))"
   ]
  },
  {
   "cell_type": "markdown",
   "id": "635df2f3",
   "metadata": {},
   "source": [
    "# C=2, gamma=0.1"
   ]
  },
  {
   "cell_type": "code",
   "execution_count": 29,
   "id": "496be9db",
   "metadata": {},
   "outputs": [
    {
     "name": "stdout",
     "output_type": "stream",
     "text": [
      "Training Data Accuracy: 0.8981481481481481\n",
      "Test Data Accuracy: 0.7268518518518519\n",
      "[[111  25]\n",
      " [ 34  46]]\n",
      "              precision    recall  f1-score   support\n",
      "\n",
      "           0       0.77      0.82      0.79       136\n",
      "           1       0.65      0.57      0.61        80\n",
      "\n",
      "    accuracy                           0.73       216\n",
      "   macro avg       0.71      0.70      0.70       216\n",
      "weighted avg       0.72      0.73      0.72       216\n",
      "\n"
     ]
    }
   ],
   "source": [
    "#Create a svm Classifier\n",
    "clf_rbf6 = svm.SVC(class_weight=None, C=2, gamma=0.1, kernel='rbf', random_state=123)\n",
    "#Train the model using the training sets\n",
    "clf_rbf6.fit(X_train, y_train)\n",
    "\n",
    "# Predict the response for the training dataset\n",
    "y_pred_trainrbf6 = clf_rbf6.predict(X_train)\n",
    "# Predict the response for the test dataset\n",
    "y_predrbf6 = clf_rbf6.predict(X_test)\n",
    "\n",
    "# Calculate accuracy for the training data\n",
    "accuracy_trainrbf6  = accuracy_score(y_train, y_pred_trainrbf6)\n",
    "# Calculate accuracy for the test data\n",
    "accuracy_testrbf6  = accuracy_score(y_test, y_predrbf6)\n",
    "\n",
    "# Print the accuracy for training and test data\n",
    "print(\"Training Data Accuracy:\", accuracy_trainrbf6)\n",
    "print(\"Test Data Accuracy:\", accuracy_testrbf6)\n",
    "\n",
    "print(confusion_matrix(y_test, y_predrbf6))\n",
    "print(classification_report(y_test, y_predrbf6))"
   ]
  },
  {
   "cell_type": "code",
   "execution_count": 30,
   "id": "ac4220a4",
   "metadata": {},
   "outputs": [
    {
     "name": "stdout",
     "output_type": "stream",
     "text": [
      "Training Data Accuracy: 0.9058641975308642\n",
      "Test Data Accuracy: 0.7453703703703703\n",
      "[[103  33]\n",
      " [ 22  58]]\n",
      "              precision    recall  f1-score   support\n",
      "\n",
      "           0       0.82      0.76      0.79       136\n",
      "           1       0.64      0.72      0.68        80\n",
      "\n",
      "    accuracy                           0.75       216\n",
      "   macro avg       0.73      0.74      0.73       216\n",
      "weighted avg       0.75      0.75      0.75       216\n",
      "\n"
     ]
    }
   ],
   "source": [
    "#Create a svm Classifier\n",
    "clf_rbf7 = svm.SVC(class_weight='balanced', C=2, gamma=0.1, kernel='rbf', random_state=123)\n",
    "#Train the model using the training sets\n",
    "clf_rbf7.fit(X_train, y_train)\n",
    "\n",
    "# Predict the response for the training dataset\n",
    "y_pred_trainrbf7 = clf_rbf7.predict(X_train)\n",
    "# Predict the response for the test dataset\n",
    "y_predrbf7 = clf_rbf7.predict(X_test)\n",
    "\n",
    "# Calculate accuracy for the training data\n",
    "accuracy_trainrbf7 = accuracy_score(y_train, y_pred_trainrbf7)\n",
    "# Calculate accuracy for the test data\n",
    "accuracy_testrbf7  = accuracy_score(y_test, y_predrbf7)\n",
    "\n",
    "# Print the accuracy for training and test data\n",
    "print(\"Training Data Accuracy:\", accuracy_trainrbf7)\n",
    "print(\"Test Data Accuracy:\", accuracy_testrbf7)\n",
    "\n",
    "print(confusion_matrix(y_test, y_predrbf7))\n",
    "print(classification_report(y_test, y_predrbf7))"
   ]
  },
  {
   "cell_type": "markdown",
   "id": "0d034883",
   "metadata": {},
   "source": [
    "# C=3, gamma=0.1"
   ]
  },
  {
   "cell_type": "code",
   "execution_count": 31,
   "id": "fcbb0b0a",
   "metadata": {},
   "outputs": [
    {
     "name": "stdout",
     "output_type": "stream",
     "text": [
      "Training Data Accuracy: 0.9120370370370371\n",
      "Test Data Accuracy: 0.7453703703703703\n",
      "[[111  25]\n",
      " [ 30  50]]\n",
      "              precision    recall  f1-score   support\n",
      "\n",
      "           0       0.79      0.82      0.80       136\n",
      "           1       0.67      0.62      0.65        80\n",
      "\n",
      "    accuracy                           0.75       216\n",
      "   macro avg       0.73      0.72      0.72       216\n",
      "weighted avg       0.74      0.75      0.74       216\n",
      "\n"
     ]
    }
   ],
   "source": [
    "#Create a svm Classifier\n",
    "clf_rbf8 = svm.SVC(class_weight=None, C=3, gamma=0.1, kernel='rbf', random_state=123)\n",
    "#Train the model using the training sets\n",
    "clf_rbf8.fit(X_train, y_train)\n",
    "\n",
    "# Predict the response for the training dataset\n",
    "y_pred_trainrbf8 = clf_rbf8.predict(X_train)\n",
    "# Predict the response for the test dataset\n",
    "y_predrbf8 = clf_rbf8.predict(X_test)\n",
    "\n",
    "# Calculate accuracy for the training data\n",
    "accuracy_trainrbf8 = accuracy_score(y_train, y_pred_trainrbf8)\n",
    "# Calculate accuracy for the test data\n",
    "accuracy_testrbf8  = accuracy_score(y_test, y_predrbf8)\n",
    "\n",
    "# Print the accuracy for training and test data\n",
    "print(\"Training Data Accuracy:\", accuracy_trainrbf8)\n",
    "print(\"Test Data Accuracy:\", accuracy_testrbf8)\n",
    "\n",
    "print(confusion_matrix(y_test, y_predrbf8))\n",
    "print(classification_report(y_test, y_predrbf8))"
   ]
  },
  {
   "cell_type": "markdown",
   "id": "fc9705f9",
   "metadata": {},
   "source": [
    "# C=6, gamma=0.4"
   ]
  },
  {
   "cell_type": "code",
   "execution_count": 32,
   "id": "f160ef0e",
   "metadata": {},
   "outputs": [
    {
     "name": "stdout",
     "output_type": "stream",
     "text": [
      "Training Data Accuracy: 0.9660493827160493\n",
      "Test Data Accuracy: 0.7129629629629629\n",
      "[[119  17]\n",
      " [ 45  35]]\n",
      "              precision    recall  f1-score   support\n",
      "\n",
      "           0       0.73      0.88      0.79       136\n",
      "           1       0.67      0.44      0.53        80\n",
      "\n",
      "    accuracy                           0.71       216\n",
      "   macro avg       0.70      0.66      0.66       216\n",
      "weighted avg       0.71      0.71      0.70       216\n",
      "\n"
     ]
    }
   ],
   "source": [
    "#Create a svm Classifier\n",
    "clf_rbf9 = svm.SVC(class_weight=None, C=6, gamma=0.4, kernel='rbf', random_state=123)\n",
    "#Train the model using the training sets\n",
    "clf_rbf9.fit(X_train, y_train)\n",
    "\n",
    "# Predict the response for the training dataset\n",
    "y_pred_trainrbf9 = clf_rbf9.predict(X_train)\n",
    "# Predict the response for the test dataset\n",
    "y_predrbf9 = clf_rbf9.predict(X_test)\n",
    "\n",
    "# Calculate accuracy for the training data\n",
    "accuracy_trainrbf9 = accuracy_score(y_train, y_pred_trainrbf9)\n",
    "# Calculate accuracy for the test data\n",
    "accuracy_testrbf9  = accuracy_score(y_test, y_predrbf9)\n",
    "\n",
    "# Print the accuracy for training and test data\n",
    "print(\"Training Data Accuracy:\", accuracy_trainrbf9)\n",
    "print(\"Test Data Accuracy:\", accuracy_testrbf9)\n",
    "\n",
    "print(confusion_matrix(y_test, y_predrbf9))\n",
    "print(classification_report(y_test, y_predrbf9))"
   ]
  },
  {
   "cell_type": "code",
   "execution_count": 34,
   "id": "fed4017b",
   "metadata": {},
   "outputs": [
    {
     "name": "stdout",
     "output_type": "stream",
     "text": [
      "Training Data Accuracy: 0.9629629629629629\n",
      "Test Data Accuracy: 0.6990740740740741\n",
      "[[114  22]\n",
      " [ 43  37]]\n",
      "              precision    recall  f1-score   support\n",
      "\n",
      "           0       0.73      0.84      0.78       136\n",
      "           1       0.63      0.46      0.53        80\n",
      "\n",
      "    accuracy                           0.70       216\n",
      "   macro avg       0.68      0.65      0.66       216\n",
      "weighted avg       0.69      0.70      0.69       216\n",
      "\n"
     ]
    }
   ],
   "source": [
    "#Create a svm Classifier\n",
    "clf_rbf10 = svm.SVC(class_weight='balanced', C=6, gamma=0.4, kernel='rbf', random_state=123)\n",
    "#Train the model using the training sets\n",
    "clf_rbf10.fit(X_train, y_train)\n",
    "\n",
    "# Predict the response for the training dataset\n",
    "y_pred_trainrbf10 = clf_rbf10.predict(X_train)\n",
    "# Predict the response for the test dataset\n",
    "y_predrbf10 = clf_rbf10.predict(X_test)\n",
    "\n",
    "# Calculate accuracy for the training data\n",
    "accuracy_trainrbf10 = accuracy_score(y_train, y_pred_trainrbf10)\n",
    "# Calculate accuracy for the test data\n",
    "accuracy_testrbf10  = accuracy_score(y_test, y_predrbf10)\n",
    "\n",
    "# Print the accuracy for training and test data\n",
    "print(\"Training Data Accuracy:\", accuracy_trainrbf10)\n",
    "print(\"Test Data Accuracy:\", accuracy_testrbf10)\n",
    "\n",
    "print(confusion_matrix(y_test, y_predrbf10))\n",
    "print(classification_report(y_test, y_predrbf10))"
   ]
  },
  {
   "cell_type": "markdown",
   "id": "d7427f94",
   "metadata": {},
   "source": [
    "# Kernel Sigmoid"
   ]
  },
  {
   "cell_type": "code",
   "execution_count": 36,
   "id": "6876fdfa",
   "metadata": {},
   "outputs": [
    {
     "name": "stdout",
     "output_type": "stream",
     "text": [
      "Training Data Accuracy: 0.5694444444444444\n",
      "Test Data Accuracy: 0.6435185185185185\n",
      "[[103  33]\n",
      " [ 44  36]]\n",
      "              precision    recall  f1-score   support\n",
      "\n",
      "           0       0.70      0.76      0.73       136\n",
      "           1       0.52      0.45      0.48        80\n",
      "\n",
      "    accuracy                           0.64       216\n",
      "   macro avg       0.61      0.60      0.61       216\n",
      "weighted avg       0.63      0.64      0.64       216\n",
      "\n"
     ]
    }
   ],
   "source": [
    "#Create a svm Classifier\n",
    "clf_sig1 = svm.SVC(class_weight=None, kernel='sigmoid', random_state=123)\n",
    "#Train the model using the training sets\n",
    "clf_sig1.fit(X_train, y_train)\n",
    "\n",
    "# Predict the response for the training dataset\n",
    "y_pred_trainsig1 = clf_sig1.predict(X_train)\n",
    "# Predict the response for the test dataset\n",
    "y_predsig1 = clf_sig1.predict(X_test)\n",
    "\n",
    "# Calculate accuracy for the training data\n",
    "accuracy_trainsig1 = accuracy_score(y_train, y_pred_trainsig1)\n",
    "# Calculate accuracy for the test data\n",
    "accuracy_testsig1  = accuracy_score(y_test, y_predsig1)\n",
    "\n",
    "# Print the accuracy for training and test data\n",
    "print(\"Training Data Accuracy:\", accuracy_trainsig1)\n",
    "print(\"Test Data Accuracy:\", accuracy_testsig1)\n",
    "\n",
    "print(confusion_matrix(y_test, y_predsig1))\n",
    "print(classification_report(y_test, y_predsig1))"
   ]
  },
  {
   "cell_type": "markdown",
   "id": "b58faf39",
   "metadata": {},
   "source": [
    "# C=1, gamma=0.1"
   ]
  },
  {
   "cell_type": "code",
   "execution_count": 37,
   "id": "afd1b06d",
   "metadata": {},
   "outputs": [
    {
     "name": "stdout",
     "output_type": "stream",
     "text": [
      "Training Data Accuracy: 0.6188271604938271\n",
      "Test Data Accuracy: 0.6296296296296297\n",
      "[[136   0]\n",
      " [ 80   0]]\n",
      "              precision    recall  f1-score   support\n",
      "\n",
      "           0       0.63      1.00      0.77       136\n",
      "           1       0.00      0.00      0.00        80\n",
      "\n",
      "    accuracy                           0.63       216\n",
      "   macro avg       0.31      0.50      0.39       216\n",
      "weighted avg       0.40      0.63      0.49       216\n",
      "\n"
     ]
    },
    {
     "name": "stderr",
     "output_type": "stream",
     "text": [
      "C:\\Users\\DELL\\anaconda3\\lib\\site-packages\\sklearn\\metrics\\_classification.py:1471: UndefinedMetricWarning: Precision and F-score are ill-defined and being set to 0.0 in labels with no predicted samples. Use `zero_division` parameter to control this behavior.\n",
      "  _warn_prf(average, modifier, msg_start, len(result))\n",
      "C:\\Users\\DELL\\anaconda3\\lib\\site-packages\\sklearn\\metrics\\_classification.py:1471: UndefinedMetricWarning: Precision and F-score are ill-defined and being set to 0.0 in labels with no predicted samples. Use `zero_division` parameter to control this behavior.\n",
      "  _warn_prf(average, modifier, msg_start, len(result))\n",
      "C:\\Users\\DELL\\anaconda3\\lib\\site-packages\\sklearn\\metrics\\_classification.py:1471: UndefinedMetricWarning: Precision and F-score are ill-defined and being set to 0.0 in labels with no predicted samples. Use `zero_division` parameter to control this behavior.\n",
      "  _warn_prf(average, modifier, msg_start, len(result))\n"
     ]
    }
   ],
   "source": [
    "#Create a svm Classifier\n",
    "clf_sig2 = svm.SVC(class_weight=None, C=1, gamma=0.1, kernel='sigmoid', random_state=123)\n",
    "#Train the model using the training sets\n",
    "clf_sig2.fit(X_train, y_train)\n",
    "\n",
    "# Predict the response for the training dataset\n",
    "y_pred_trainsig2 = clf_sig2.predict(X_train)\n",
    "# Predict the response for the test dataset\n",
    "y_predsig2 = clf_sig2.predict(X_test)\n",
    "\n",
    "# Calculate accuracy for the training data\n",
    "accuracy_trainsig2 = accuracy_score(y_train, y_pred_trainsig2)\n",
    "# Calculate accuracy for the test data\n",
    "accuracy_testsig2  = accuracy_score(y_test, y_predsig2)\n",
    "\n",
    "# Print the accuracy for training and test data\n",
    "print(\"Training Data Accuracy:\", accuracy_trainsig2)\n",
    "print(\"Test Data Accuracy:\", accuracy_testsig2)\n",
    "\n",
    "print(confusion_matrix(y_test, y_predsig2))\n",
    "print(classification_report(y_test, y_predsig2))"
   ]
  },
  {
   "cell_type": "code",
   "execution_count": 38,
   "id": "f704048c",
   "metadata": {},
   "outputs": [
    {
     "name": "stdout",
     "output_type": "stream",
     "text": [
      "Training Data Accuracy: 0.38117283950617287\n",
      "Test Data Accuracy: 0.37037037037037035\n",
      "[[  0 136]\n",
      " [  0  80]]\n",
      "              precision    recall  f1-score   support\n",
      "\n",
      "           0       0.00      0.00      0.00       136\n",
      "           1       0.37      1.00      0.54        80\n",
      "\n",
      "    accuracy                           0.37       216\n",
      "   macro avg       0.19      0.50      0.27       216\n",
      "weighted avg       0.14      0.37      0.20       216\n",
      "\n"
     ]
    },
    {
     "name": "stderr",
     "output_type": "stream",
     "text": [
      "C:\\Users\\DELL\\anaconda3\\lib\\site-packages\\sklearn\\metrics\\_classification.py:1471: UndefinedMetricWarning: Precision and F-score are ill-defined and being set to 0.0 in labels with no predicted samples. Use `zero_division` parameter to control this behavior.\n",
      "  _warn_prf(average, modifier, msg_start, len(result))\n",
      "C:\\Users\\DELL\\anaconda3\\lib\\site-packages\\sklearn\\metrics\\_classification.py:1471: UndefinedMetricWarning: Precision and F-score are ill-defined and being set to 0.0 in labels with no predicted samples. Use `zero_division` parameter to control this behavior.\n",
      "  _warn_prf(average, modifier, msg_start, len(result))\n",
      "C:\\Users\\DELL\\anaconda3\\lib\\site-packages\\sklearn\\metrics\\_classification.py:1471: UndefinedMetricWarning: Precision and F-score are ill-defined and being set to 0.0 in labels with no predicted samples. Use `zero_division` parameter to control this behavior.\n",
      "  _warn_prf(average, modifier, msg_start, len(result))\n"
     ]
    }
   ],
   "source": [
    "#Create a svm Classifier\n",
    "clf_sig3 = svm.SVC(class_weight='balanced', C=1, gamma=0.1, kernel='sigmoid', random_state=123)\n",
    "#Train the model using the training sets\n",
    "clf_sig3.fit(X_train, y_train)\n",
    "\n",
    "# Predict the response for the training dataset\n",
    "y_pred_trainsig3 = clf_sig3.predict(X_train)\n",
    "# Predict the response for the test dataset\n",
    "y_predsig3 = clf_sig3.predict(X_test)\n",
    "\n",
    "# Calculate accuracy for the training data\n",
    "accuracy_trainsig3 = accuracy_score(y_train, y_pred_trainsig3)\n",
    "# Calculate accuracy for the test data\n",
    "accuracy_testsig3  = accuracy_score(y_test, y_predsig3)\n",
    "\n",
    "# Print the accuracy for training and test data\n",
    "print(\"Training Data Accuracy:\", accuracy_trainsig3)\n",
    "print(\"Test Data Accuracy:\", accuracy_testsig3)\n",
    "\n",
    "print(confusion_matrix(y_test, y_predsig3))\n",
    "print(classification_report(y_test, y_predsig3))"
   ]
  },
  {
   "cell_type": "markdown",
   "id": "66a5e942",
   "metadata": {},
   "source": [
    "# C=1, gamma=0.2"
   ]
  },
  {
   "cell_type": "code",
   "execution_count": 39,
   "id": "450e47bf",
   "metadata": {},
   "outputs": [
    {
     "name": "stdout",
     "output_type": "stream",
     "text": [
      "Training Data Accuracy: 0.6188271604938271\n",
      "Test Data Accuracy: 0.6296296296296297\n",
      "[[136   0]\n",
      " [ 80   0]]\n",
      "              precision    recall  f1-score   support\n",
      "\n",
      "           0       0.63      1.00      0.77       136\n",
      "           1       0.00      0.00      0.00        80\n",
      "\n",
      "    accuracy                           0.63       216\n",
      "   macro avg       0.31      0.50      0.39       216\n",
      "weighted avg       0.40      0.63      0.49       216\n",
      "\n"
     ]
    },
    {
     "name": "stderr",
     "output_type": "stream",
     "text": [
      "C:\\Users\\DELL\\anaconda3\\lib\\site-packages\\sklearn\\metrics\\_classification.py:1471: UndefinedMetricWarning: Precision and F-score are ill-defined and being set to 0.0 in labels with no predicted samples. Use `zero_division` parameter to control this behavior.\n",
      "  _warn_prf(average, modifier, msg_start, len(result))\n",
      "C:\\Users\\DELL\\anaconda3\\lib\\site-packages\\sklearn\\metrics\\_classification.py:1471: UndefinedMetricWarning: Precision and F-score are ill-defined and being set to 0.0 in labels with no predicted samples. Use `zero_division` parameter to control this behavior.\n",
      "  _warn_prf(average, modifier, msg_start, len(result))\n",
      "C:\\Users\\DELL\\anaconda3\\lib\\site-packages\\sklearn\\metrics\\_classification.py:1471: UndefinedMetricWarning: Precision and F-score are ill-defined and being set to 0.0 in labels with no predicted samples. Use `zero_division` parameter to control this behavior.\n",
      "  _warn_prf(average, modifier, msg_start, len(result))\n"
     ]
    }
   ],
   "source": [
    "#Create a svm Classifier\n",
    "clf_sig4= svm.SVC(class_weight=None, C=1, gamma=0.2, kernel='sigmoid', random_state=123)\n",
    "#Train the model using the training sets\n",
    "clf_sig4.fit(X_train, y_train)\n",
    "\n",
    "# Predict the response for the training dataset\n",
    "y_pred_trainsig4 = clf_sig4.predict(X_train)\n",
    "# Predict the response for the test dataset\n",
    "y_predsig4 = clf_sig4.predict(X_test)\n",
    "\n",
    "# Calculate accuracy for the training data\n",
    "accuracy_trainsig4 = accuracy_score(y_train, y_pred_trainsig4)\n",
    "# Calculate accuracy for the test data\n",
    "accuracy_testsig4  = accuracy_score(y_test, y_predsig4)\n",
    "\n",
    "# Print the accuracy for training and test data\n",
    "print(\"Training Data Accuracy:\", accuracy_trainsig4)\n",
    "print(\"Test Data Accuracy:\", accuracy_testsig4)\n",
    "\n",
    "print(confusion_matrix(y_test, y_predsig4))\n",
    "print(classification_report(y_test, y_predsig4))"
   ]
  },
  {
   "cell_type": "code",
   "execution_count": 40,
   "id": "c9ea09d8",
   "metadata": {},
   "outputs": [
    {
     "name": "stdout",
     "output_type": "stream",
     "text": [
      "Training Data Accuracy: 0.38117283950617287\n",
      "Test Data Accuracy: 0.37037037037037035\n",
      "[[  0 136]\n",
      " [  0  80]]\n",
      "              precision    recall  f1-score   support\n",
      "\n",
      "           0       0.00      0.00      0.00       136\n",
      "           1       0.37      1.00      0.54        80\n",
      "\n",
      "    accuracy                           0.37       216\n",
      "   macro avg       0.19      0.50      0.27       216\n",
      "weighted avg       0.14      0.37      0.20       216\n",
      "\n"
     ]
    },
    {
     "name": "stderr",
     "output_type": "stream",
     "text": [
      "C:\\Users\\DELL\\anaconda3\\lib\\site-packages\\sklearn\\metrics\\_classification.py:1471: UndefinedMetricWarning: Precision and F-score are ill-defined and being set to 0.0 in labels with no predicted samples. Use `zero_division` parameter to control this behavior.\n",
      "  _warn_prf(average, modifier, msg_start, len(result))\n",
      "C:\\Users\\DELL\\anaconda3\\lib\\site-packages\\sklearn\\metrics\\_classification.py:1471: UndefinedMetricWarning: Precision and F-score are ill-defined and being set to 0.0 in labels with no predicted samples. Use `zero_division` parameter to control this behavior.\n",
      "  _warn_prf(average, modifier, msg_start, len(result))\n",
      "C:\\Users\\DELL\\anaconda3\\lib\\site-packages\\sklearn\\metrics\\_classification.py:1471: UndefinedMetricWarning: Precision and F-score are ill-defined and being set to 0.0 in labels with no predicted samples. Use `zero_division` parameter to control this behavior.\n",
      "  _warn_prf(average, modifier, msg_start, len(result))\n"
     ]
    }
   ],
   "source": [
    "#Create a svm Classifier\n",
    "clf_sig5= svm.SVC(class_weight='balanced', C=1, gamma=0.2, kernel='sigmoid', random_state=123)\n",
    "#Train the model using the training sets\n",
    "clf_sig5.fit(X_train, y_train)\n",
    "\n",
    "# Predict the response for the training dataset\n",
    "y_pred_trainsig5 = clf_sig5.predict(X_train)\n",
    "# Predict the response for the test dataset\n",
    "y_predsig5 = clf_sig5.predict(X_test)\n",
    "\n",
    "# Calculate accuracy for the training data\n",
    "accuracy_trainsig5 = accuracy_score(y_train, y_pred_trainsig5)\n",
    "# Calculate accuracy for the test data\n",
    "accuracy_testsig5  = accuracy_score(y_test, y_predsig5)\n",
    "\n",
    "# Print the accuracy for training and test data\n",
    "print(\"Training Data Accuracy:\", accuracy_trainsig5)\n",
    "print(\"Test Data Accuracy:\", accuracy_testsig5)\n",
    "\n",
    "print(confusion_matrix(y_test, y_predsig5))\n",
    "print(classification_report(y_test, y_predsig5))"
   ]
  },
  {
   "cell_type": "markdown",
   "id": "75b6ce51",
   "metadata": {},
   "source": [
    "# C=2, gamma=0.1"
   ]
  },
  {
   "cell_type": "code",
   "execution_count": 41,
   "id": "9d23475f",
   "metadata": {},
   "outputs": [
    {
     "name": "stdout",
     "output_type": "stream",
     "text": [
      "Training Data Accuracy: 0.6188271604938271\n",
      "Test Data Accuracy: 0.6296296296296297\n",
      "[[136   0]\n",
      " [ 80   0]]\n",
      "              precision    recall  f1-score   support\n",
      "\n",
      "           0       0.63      1.00      0.77       136\n",
      "           1       0.00      0.00      0.00        80\n",
      "\n",
      "    accuracy                           0.63       216\n",
      "   macro avg       0.31      0.50      0.39       216\n",
      "weighted avg       0.40      0.63      0.49       216\n",
      "\n"
     ]
    },
    {
     "name": "stderr",
     "output_type": "stream",
     "text": [
      "C:\\Users\\DELL\\anaconda3\\lib\\site-packages\\sklearn\\metrics\\_classification.py:1471: UndefinedMetricWarning: Precision and F-score are ill-defined and being set to 0.0 in labels with no predicted samples. Use `zero_division` parameter to control this behavior.\n",
      "  _warn_prf(average, modifier, msg_start, len(result))\n",
      "C:\\Users\\DELL\\anaconda3\\lib\\site-packages\\sklearn\\metrics\\_classification.py:1471: UndefinedMetricWarning: Precision and F-score are ill-defined and being set to 0.0 in labels with no predicted samples. Use `zero_division` parameter to control this behavior.\n",
      "  _warn_prf(average, modifier, msg_start, len(result))\n",
      "C:\\Users\\DELL\\anaconda3\\lib\\site-packages\\sklearn\\metrics\\_classification.py:1471: UndefinedMetricWarning: Precision and F-score are ill-defined and being set to 0.0 in labels with no predicted samples. Use `zero_division` parameter to control this behavior.\n",
      "  _warn_prf(average, modifier, msg_start, len(result))\n"
     ]
    }
   ],
   "source": [
    "#Create a svm Classifier\n",
    "clf_sig6= svm.SVC(class_weight=None, C=2, gamma=0.1, kernel='sigmoid', random_state=123)\n",
    "#Train the model using the training sets\n",
    "clf_sig6.fit(X_train, y_train)\n",
    "\n",
    "# Predict the response for the training dataset\n",
    "y_pred_trainsig6 = clf_sig6.predict(X_train)\n",
    "# Predict the response for the test dataset\n",
    "y_predsig6 = clf_sig6.predict(X_test)\n",
    "\n",
    "# Calculate accuracy for the training data\n",
    "accuracy_trainsig6 = accuracy_score(y_train, y_pred_trainsig6)\n",
    "# Calculate accuracy for the test data\n",
    "accuracy_testsig6  = accuracy_score(y_test, y_predsig6)\n",
    "\n",
    "# Print the accuracy for training and test data\n",
    "print(\"Training Data Accuracy:\", accuracy_trainsig6)\n",
    "print(\"Test Data Accuracy:\", accuracy_testsig6)\n",
    "\n",
    "print(confusion_matrix(y_test, y_predsig6))\n",
    "print(classification_report(y_test, y_predsig6))"
   ]
  },
  {
   "cell_type": "code",
   "execution_count": 42,
   "id": "a23a233f",
   "metadata": {},
   "outputs": [
    {
     "name": "stdout",
     "output_type": "stream",
     "text": [
      "Training Data Accuracy: 0.38117283950617287\n",
      "Test Data Accuracy: 0.37037037037037035\n",
      "[[  0 136]\n",
      " [  0  80]]\n",
      "              precision    recall  f1-score   support\n",
      "\n",
      "           0       0.00      0.00      0.00       136\n",
      "           1       0.37      1.00      0.54        80\n",
      "\n",
      "    accuracy                           0.37       216\n",
      "   macro avg       0.19      0.50      0.27       216\n",
      "weighted avg       0.14      0.37      0.20       216\n",
      "\n"
     ]
    },
    {
     "name": "stderr",
     "output_type": "stream",
     "text": [
      "C:\\Users\\DELL\\anaconda3\\lib\\site-packages\\sklearn\\metrics\\_classification.py:1471: UndefinedMetricWarning: Precision and F-score are ill-defined and being set to 0.0 in labels with no predicted samples. Use `zero_division` parameter to control this behavior.\n",
      "  _warn_prf(average, modifier, msg_start, len(result))\n",
      "C:\\Users\\DELL\\anaconda3\\lib\\site-packages\\sklearn\\metrics\\_classification.py:1471: UndefinedMetricWarning: Precision and F-score are ill-defined and being set to 0.0 in labels with no predicted samples. Use `zero_division` parameter to control this behavior.\n",
      "  _warn_prf(average, modifier, msg_start, len(result))\n",
      "C:\\Users\\DELL\\anaconda3\\lib\\site-packages\\sklearn\\metrics\\_classification.py:1471: UndefinedMetricWarning: Precision and F-score are ill-defined and being set to 0.0 in labels with no predicted samples. Use `zero_division` parameter to control this behavior.\n",
      "  _warn_prf(average, modifier, msg_start, len(result))\n"
     ]
    }
   ],
   "source": [
    "#Create a svm Classifier\n",
    "clf_sig7= svm.SVC(class_weight='balanced', C=2, gamma=0.1, kernel='sigmoid', random_state=123)\n",
    "#Train the model using the training sets\n",
    "clf_sig7.fit(X_train, y_train)\n",
    "\n",
    "# Predict the response for the training dataset\n",
    "y_pred_trainsig7 = clf_sig7.predict(X_train)\n",
    "# Predict the response for the test dataset\n",
    "y_predsig7 = clf_sig7.predict(X_test)\n",
    "\n",
    "# Calculate accuracy for the training data\n",
    "accuracy_trainsig7 = accuracy_score(y_train, y_pred_trainsig7)\n",
    "# Calculate accuracy for the test data\n",
    "accuracy_testsig7  = accuracy_score(y_test, y_predsig7)\n",
    "\n",
    "# Print the accuracy for training and test data\n",
    "print(\"Training Data Accuracy:\", accuracy_trainsig7)\n",
    "print(\"Test Data Accuracy:\", accuracy_testsig7)\n",
    "\n",
    "print(confusion_matrix(y_test, y_predsig7))\n",
    "print(classification_report(y_test, y_predsig7))"
   ]
  },
  {
   "cell_type": "markdown",
   "id": "ee7a09f8",
   "metadata": {},
   "source": [
    "# C=2, gamma=0.2"
   ]
  },
  {
   "cell_type": "code",
   "execution_count": 43,
   "id": "bcee1fbe",
   "metadata": {},
   "outputs": [
    {
     "name": "stdout",
     "output_type": "stream",
     "text": [
      "Training Data Accuracy: 0.6188271604938271\n",
      "Test Data Accuracy: 0.6296296296296297\n",
      "[[136   0]\n",
      " [ 80   0]]\n",
      "              precision    recall  f1-score   support\n",
      "\n",
      "           0       0.63      1.00      0.77       136\n",
      "           1       0.00      0.00      0.00        80\n",
      "\n",
      "    accuracy                           0.63       216\n",
      "   macro avg       0.31      0.50      0.39       216\n",
      "weighted avg       0.40      0.63      0.49       216\n",
      "\n"
     ]
    },
    {
     "name": "stderr",
     "output_type": "stream",
     "text": [
      "C:\\Users\\DELL\\anaconda3\\lib\\site-packages\\sklearn\\metrics\\_classification.py:1471: UndefinedMetricWarning: Precision and F-score are ill-defined and being set to 0.0 in labels with no predicted samples. Use `zero_division` parameter to control this behavior.\n",
      "  _warn_prf(average, modifier, msg_start, len(result))\n",
      "C:\\Users\\DELL\\anaconda3\\lib\\site-packages\\sklearn\\metrics\\_classification.py:1471: UndefinedMetricWarning: Precision and F-score are ill-defined and being set to 0.0 in labels with no predicted samples. Use `zero_division` parameter to control this behavior.\n",
      "  _warn_prf(average, modifier, msg_start, len(result))\n",
      "C:\\Users\\DELL\\anaconda3\\lib\\site-packages\\sklearn\\metrics\\_classification.py:1471: UndefinedMetricWarning: Precision and F-score are ill-defined and being set to 0.0 in labels with no predicted samples. Use `zero_division` parameter to control this behavior.\n",
      "  _warn_prf(average, modifier, msg_start, len(result))\n"
     ]
    }
   ],
   "source": [
    "#Create a svm Classifier\n",
    "clf_sig8= svm.SVC(class_weight=None, C=2, gamma=0.2, kernel='sigmoid', random_state=123)\n",
    "#Train the model using the training sets\n",
    "clf_sig8.fit(X_train, y_train)\n",
    "\n",
    "# Predict the response for the training dataset\n",
    "y_pred_trainsig8 = clf_sig8.predict(X_train)\n",
    "# Predict the response for the test dataset\n",
    "y_predsig8 = clf_sig8.predict(X_test)\n",
    "\n",
    "# Calculate accuracy for the training data\n",
    "accuracy_trainsig8 = accuracy_score(y_train, y_pred_trainsig8)\n",
    "# Calculate accuracy for the test data\n",
    "accuracy_testsig8  = accuracy_score(y_test, y_predsig8)\n",
    "\n",
    "# Print the accuracy for training and test data\n",
    "print(\"Training Data Accuracy:\", accuracy_trainsig8)\n",
    "print(\"Test Data Accuracy:\", accuracy_testsig8)\n",
    "\n",
    "print(confusion_matrix(y_test, y_predsig8))\n",
    "print(classification_report(y_test, y_predsig8))"
   ]
  },
  {
   "cell_type": "code",
   "execution_count": 44,
   "id": "803e4275",
   "metadata": {},
   "outputs": [
    {
     "name": "stdout",
     "output_type": "stream",
     "text": [
      "Training Data Accuracy: 0.38117283950617287\n",
      "Test Data Accuracy: 0.37037037037037035\n",
      "[[  0 136]\n",
      " [  0  80]]\n",
      "              precision    recall  f1-score   support\n",
      "\n",
      "           0       0.00      0.00      0.00       136\n",
      "           1       0.37      1.00      0.54        80\n",
      "\n",
      "    accuracy                           0.37       216\n",
      "   macro avg       0.19      0.50      0.27       216\n",
      "weighted avg       0.14      0.37      0.20       216\n",
      "\n"
     ]
    },
    {
     "name": "stderr",
     "output_type": "stream",
     "text": [
      "C:\\Users\\DELL\\anaconda3\\lib\\site-packages\\sklearn\\metrics\\_classification.py:1471: UndefinedMetricWarning: Precision and F-score are ill-defined and being set to 0.0 in labels with no predicted samples. Use `zero_division` parameter to control this behavior.\n",
      "  _warn_prf(average, modifier, msg_start, len(result))\n",
      "C:\\Users\\DELL\\anaconda3\\lib\\site-packages\\sklearn\\metrics\\_classification.py:1471: UndefinedMetricWarning: Precision and F-score are ill-defined and being set to 0.0 in labels with no predicted samples. Use `zero_division` parameter to control this behavior.\n",
      "  _warn_prf(average, modifier, msg_start, len(result))\n",
      "C:\\Users\\DELL\\anaconda3\\lib\\site-packages\\sklearn\\metrics\\_classification.py:1471: UndefinedMetricWarning: Precision and F-score are ill-defined and being set to 0.0 in labels with no predicted samples. Use `zero_division` parameter to control this behavior.\n",
      "  _warn_prf(average, modifier, msg_start, len(result))\n"
     ]
    }
   ],
   "source": [
    "#Create a svm Classifier\n",
    "clf_sig9= svm.SVC(class_weight='balanced', C=2, gamma=0.2, kernel='sigmoid', random_state=123)\n",
    "#Train the model using the training sets\n",
    "clf_sig9.fit(X_train, y_train)\n",
    "\n",
    "# Predict the response for the training dataset\n",
    "y_pred_trainsig9 = clf_sig9.predict(X_train)\n",
    "# Predict the response for the test dataset\n",
    "y_predsig9 = clf_sig9.predict(X_test)\n",
    "\n",
    "# Calculate accuracy for the training data\n",
    "accuracy_trainsig9 = accuracy_score(y_train, y_pred_trainsig9)\n",
    "# Calculate accuracy for the test data\n",
    "accuracy_testsig9  = accuracy_score(y_test, y_predsig9)\n",
    "\n",
    "# Print the accuracy for training and test data\n",
    "print(\"Training Data Accuracy:\", accuracy_trainsig9)\n",
    "print(\"Test Data Accuracy:\", accuracy_testsig9)\n",
    "\n",
    "print(confusion_matrix(y_test, y_predsig9))\n",
    "print(classification_report(y_test, y_predsig9))"
   ]
  },
  {
   "cell_type": "markdown",
   "id": "e2ac945e",
   "metadata": {},
   "source": [
    "# C=3, gamma=0.1"
   ]
  },
  {
   "cell_type": "code",
   "execution_count": 46,
   "id": "932222cd",
   "metadata": {},
   "outputs": [
    {
     "name": "stdout",
     "output_type": "stream",
     "text": [
      "Training Data Accuracy: 0.6188271604938271\n",
      "Test Data Accuracy: 0.6296296296296297\n",
      "[[136   0]\n",
      " [ 80   0]]\n",
      "              precision    recall  f1-score   support\n",
      "\n",
      "           0       0.63      1.00      0.77       136\n",
      "           1       0.00      0.00      0.00        80\n",
      "\n",
      "    accuracy                           0.63       216\n",
      "   macro avg       0.31      0.50      0.39       216\n",
      "weighted avg       0.40      0.63      0.49       216\n",
      "\n"
     ]
    },
    {
     "name": "stderr",
     "output_type": "stream",
     "text": [
      "C:\\Users\\DELL\\anaconda3\\lib\\site-packages\\sklearn\\metrics\\_classification.py:1471: UndefinedMetricWarning: Precision and F-score are ill-defined and being set to 0.0 in labels with no predicted samples. Use `zero_division` parameter to control this behavior.\n",
      "  _warn_prf(average, modifier, msg_start, len(result))\n",
      "C:\\Users\\DELL\\anaconda3\\lib\\site-packages\\sklearn\\metrics\\_classification.py:1471: UndefinedMetricWarning: Precision and F-score are ill-defined and being set to 0.0 in labels with no predicted samples. Use `zero_division` parameter to control this behavior.\n",
      "  _warn_prf(average, modifier, msg_start, len(result))\n",
      "C:\\Users\\DELL\\anaconda3\\lib\\site-packages\\sklearn\\metrics\\_classification.py:1471: UndefinedMetricWarning: Precision and F-score are ill-defined and being set to 0.0 in labels with no predicted samples. Use `zero_division` parameter to control this behavior.\n",
      "  _warn_prf(average, modifier, msg_start, len(result))\n"
     ]
    }
   ],
   "source": [
    "#Create a svm Classifier\n",
    "clf_sig10= svm.SVC(class_weight=None, C=3, gamma=0.1, kernel='sigmoid', random_state=123)\n",
    "#Train the model using the training sets\n",
    "clf_sig10.fit(X_train, y_train)\n",
    "\n",
    "# Predict the response for the training dataset\n",
    "y_pred_trainsig10 = clf_sig10.predict(X_train)\n",
    "# Predict the response for the test dataset\n",
    "y_predsig10 = clf_sig10.predict(X_test)\n",
    "\n",
    "# Calculate accuracy for the training data\n",
    "accuracy_trainsig10 = accuracy_score(y_train, y_pred_trainsig10)\n",
    "# Calculate accuracy for the test data\n",
    "accuracy_testsig10  = accuracy_score(y_test, y_predsig10)\n",
    "\n",
    "# Print the accuracy for training and test data\n",
    "print(\"Training Data Accuracy:\", accuracy_trainsig10)\n",
    "print(\"Test Data Accuracy:\", accuracy_testsig10)\n",
    "\n",
    "print(confusion_matrix(y_test, y_predsig10))\n",
    "print(classification_report(y_test, y_predsig10))"
   ]
  },
  {
   "cell_type": "code",
   "execution_count": 48,
   "id": "0b01c380",
   "metadata": {},
   "outputs": [
    {
     "name": "stdout",
     "output_type": "stream",
     "text": [
      "Training Data Accuracy: 0.6203703703703703\n",
      "Test Data Accuracy: 0.6296296296296297\n",
      "[[136   0]\n",
      " [ 80   0]]\n",
      "              precision    recall  f1-score   support\n",
      "\n",
      "           0       0.63      1.00      0.77       136\n",
      "           1       0.00      0.00      0.00        80\n",
      "\n",
      "    accuracy                           0.63       216\n",
      "   macro avg       0.31      0.50      0.39       216\n",
      "weighted avg       0.40      0.63      0.49       216\n",
      "\n"
     ]
    },
    {
     "name": "stderr",
     "output_type": "stream",
     "text": [
      "C:\\Users\\DELL\\anaconda3\\lib\\site-packages\\sklearn\\metrics\\_classification.py:1471: UndefinedMetricWarning: Precision and F-score are ill-defined and being set to 0.0 in labels with no predicted samples. Use `zero_division` parameter to control this behavior.\n",
      "  _warn_prf(average, modifier, msg_start, len(result))\n",
      "C:\\Users\\DELL\\anaconda3\\lib\\site-packages\\sklearn\\metrics\\_classification.py:1471: UndefinedMetricWarning: Precision and F-score are ill-defined and being set to 0.0 in labels with no predicted samples. Use `zero_division` parameter to control this behavior.\n",
      "  _warn_prf(average, modifier, msg_start, len(result))\n",
      "C:\\Users\\DELL\\anaconda3\\lib\\site-packages\\sklearn\\metrics\\_classification.py:1471: UndefinedMetricWarning: Precision and F-score are ill-defined and being set to 0.0 in labels with no predicted samples. Use `zero_division` parameter to control this behavior.\n",
      "  _warn_prf(average, modifier, msg_start, len(result))\n"
     ]
    }
   ],
   "source": [
    "#Create a svm Classifier\n",
    "clf_sig11= svm.SVC(class_weight='balanced', C=3, gamma=0.1, kernel='sigmoid', random_state=123)\n",
    "#Train the model using the training sets\n",
    "clf_sig11.fit(X_train, y_train)\n",
    "\n",
    "# Predict the response for the training dataset\n",
    "y_pred_trainsig11 = clf_sig11.predict(X_train)\n",
    "# Predict the response for the test dataset\n",
    "y_predsig11 = clf_sig11.predict(X_test)\n",
    "\n",
    "# Calculate accuracy for the training data\n",
    "accuracy_trainsig11 = accuracy_score(y_train, y_pred_trainsig11)\n",
    "# Calculate accuracy for the test data\n",
    "accuracy_testsig11  = accuracy_score(y_test, y_predsig11)\n",
    "\n",
    "# Print the accuracy for training and test data\n",
    "print(\"Training Data Accuracy:\", accuracy_trainsig11)\n",
    "print(\"Test Data Accuracy:\", accuracy_testsig11)\n",
    "\n",
    "print(confusion_matrix(y_test, y_predsig11))\n",
    "print(classification_report(y_test, y_predsig11))"
   ]
  },
  {
   "cell_type": "markdown",
   "id": "81aff6aa",
   "metadata": {},
   "source": [
    "# C=3, gamma=0.2"
   ]
  },
  {
   "cell_type": "code",
   "execution_count": 49,
   "id": "4f129334",
   "metadata": {},
   "outputs": [
    {
     "name": "stdout",
     "output_type": "stream",
     "text": [
      "Training Data Accuracy: 0.6188271604938271\n",
      "Test Data Accuracy: 0.6296296296296297\n",
      "[[136   0]\n",
      " [ 80   0]]\n",
      "              precision    recall  f1-score   support\n",
      "\n",
      "           0       0.63      1.00      0.77       136\n",
      "           1       0.00      0.00      0.00        80\n",
      "\n",
      "    accuracy                           0.63       216\n",
      "   macro avg       0.31      0.50      0.39       216\n",
      "weighted avg       0.40      0.63      0.49       216\n",
      "\n"
     ]
    },
    {
     "name": "stderr",
     "output_type": "stream",
     "text": [
      "C:\\Users\\DELL\\anaconda3\\lib\\site-packages\\sklearn\\metrics\\_classification.py:1471: UndefinedMetricWarning: Precision and F-score are ill-defined and being set to 0.0 in labels with no predicted samples. Use `zero_division` parameter to control this behavior.\n",
      "  _warn_prf(average, modifier, msg_start, len(result))\n",
      "C:\\Users\\DELL\\anaconda3\\lib\\site-packages\\sklearn\\metrics\\_classification.py:1471: UndefinedMetricWarning: Precision and F-score are ill-defined and being set to 0.0 in labels with no predicted samples. Use `zero_division` parameter to control this behavior.\n",
      "  _warn_prf(average, modifier, msg_start, len(result))\n",
      "C:\\Users\\DELL\\anaconda3\\lib\\site-packages\\sklearn\\metrics\\_classification.py:1471: UndefinedMetricWarning: Precision and F-score are ill-defined and being set to 0.0 in labels with no predicted samples. Use `zero_division` parameter to control this behavior.\n",
      "  _warn_prf(average, modifier, msg_start, len(result))\n"
     ]
    }
   ],
   "source": [
    "#Create a svm Classifier\n",
    "clf_sig12= svm.SVC(class_weight=None, C=3, gamma=0.2, kernel='sigmoid', random_state=123)\n",
    "#Train the model using the training sets\n",
    "clf_sig12.fit(X_train, y_train)\n",
    "\n",
    "# Predict the response for the training dataset\n",
    "y_pred_trainsig12 = clf_sig12.predict(X_train)\n",
    "# Predict the response for the test dataset\n",
    "y_predsig12= clf_sig12.predict(X_test)\n",
    "\n",
    "# Calculate accuracy for the training data\n",
    "accuracy_trainsig12 = accuracy_score(y_train, y_pred_trainsig12)\n",
    "# Calculate accuracy for the test data\n",
    "accuracy_testsig12 = accuracy_score(y_test, y_predsig12)\n",
    "\n",
    "# Print the accuracy for training and test data\n",
    "print(\"Training Data Accuracy:\", accuracy_trainsig12)\n",
    "print(\"Test Data Accuracy:\", accuracy_testsig12)\n",
    "\n",
    "print(confusion_matrix(y_test, y_predsig12))\n",
    "print(classification_report(y_test, y_predsig12))"
   ]
  },
  {
   "cell_type": "code",
   "execution_count": 51,
   "id": "8aa12802",
   "metadata": {},
   "outputs": [
    {
     "name": "stdout",
     "output_type": "stream",
     "text": [
      "Training Data Accuracy: 0.6188271604938271\n",
      "Test Data Accuracy: 0.6296296296296297\n",
      "[[136   0]\n",
      " [ 80   0]]\n",
      "              precision    recall  f1-score   support\n",
      "\n",
      "           0       0.63      1.00      0.77       136\n",
      "           1       0.00      0.00      0.00        80\n",
      "\n",
      "    accuracy                           0.63       216\n",
      "   macro avg       0.31      0.50      0.39       216\n",
      "weighted avg       0.40      0.63      0.49       216\n",
      "\n"
     ]
    },
    {
     "name": "stderr",
     "output_type": "stream",
     "text": [
      "C:\\Users\\DELL\\anaconda3\\lib\\site-packages\\sklearn\\metrics\\_classification.py:1471: UndefinedMetricWarning: Precision and F-score are ill-defined and being set to 0.0 in labels with no predicted samples. Use `zero_division` parameter to control this behavior.\n",
      "  _warn_prf(average, modifier, msg_start, len(result))\n",
      "C:\\Users\\DELL\\anaconda3\\lib\\site-packages\\sklearn\\metrics\\_classification.py:1471: UndefinedMetricWarning: Precision and F-score are ill-defined and being set to 0.0 in labels with no predicted samples. Use `zero_division` parameter to control this behavior.\n",
      "  _warn_prf(average, modifier, msg_start, len(result))\n",
      "C:\\Users\\DELL\\anaconda3\\lib\\site-packages\\sklearn\\metrics\\_classification.py:1471: UndefinedMetricWarning: Precision and F-score are ill-defined and being set to 0.0 in labels with no predicted samples. Use `zero_division` parameter to control this behavior.\n",
      "  _warn_prf(average, modifier, msg_start, len(result))\n"
     ]
    }
   ],
   "source": [
    "#Create a svm Classifier\n",
    "clf_sig13= svm.SVC(class_weight='balanced', C=3, gamma=0.2, kernel='sigmoid', random_state=123)\n",
    "#Train the model using the training sets\n",
    "clf_sig13.fit(X_train, y_train)\n",
    "\n",
    "# Predict the response for the training dataset\n",
    "y_pred_trainsig13 = clf_sig13.predict(X_train)\n",
    "# Predict the response for the test dataset\n",
    "y_predsig13 = clf_sig13.predict(X_test)\n",
    "\n",
    "# Calculate accuracy for the training data\n",
    "accuracy_trainsig13 = accuracy_score(y_train, y_pred_trainsig13)\n",
    "# Calculate accuracy for the test data\n",
    "accuracy_testsig13 = accuracy_score(y_test, y_predsig13)\n",
    "\n",
    "# Print the accuracy for training and test data\n",
    "print(\"Training Data Accuracy:\", accuracy_trainsig13)\n",
    "print(\"Test Data Accuracy:\", accuracy_testsig13)\n",
    "\n",
    "print(confusion_matrix(y_test, y_predsig13))\n",
    "print(classification_report(y_test, y_predsig13))"
   ]
  },
  {
   "cell_type": "markdown",
   "id": "3765ddcd",
   "metadata": {},
   "source": [
    "# Logistic Biner Regression"
   ]
  },
  {
   "cell_type": "code",
   "execution_count": 24,
   "id": "81ce57df",
   "metadata": {},
   "outputs": [],
   "source": [
    "# Separate Dependent and Independent variables\n",
    "x = df1[['Pclass', 'Age', 'SibSp', 'Parch', 'Fare', 'Sex', 'Embarked']]\n",
    "y = df1['Survived']"
   ]
  },
  {
   "cell_type": "code",
   "execution_count": 26,
   "id": "f53ba97c",
   "metadata": {},
   "outputs": [
    {
     "name": "stderr",
     "output_type": "stream",
     "text": [
      "c:\\Users\\DELL\\anaconda3\\lib\\site-packages\\sklearn\\linear_model\\_logistic.py:460: ConvergenceWarning: lbfgs failed to converge (status=1):\n",
      "STOP: TOTAL NO. of ITERATIONS REACHED LIMIT.\n",
      "\n",
      "Increase the number of iterations (max_iter) or scale the data as shown in:\n",
      "    https://scikit-learn.org/stable/modules/preprocessing.html\n",
      "Please also refer to the documentation for alternative solver options:\n",
      "    https://scikit-learn.org/stable/modules/linear_model.html#logistic-regression\n",
      "  n_iter_i = _check_optimize_result(\n"
     ]
    }
   ],
   "source": [
    "# Import train test split method\n",
    "from sklearn.model_selection import train_test_split\n",
    "# Import Logistic Regression\n",
    "from sklearn.linear_model import LogisticRegression\n",
    "# Import classification report\n",
    "from sklearn.metrics import classification_report\n",
    "\n",
    "# train test split\n",
    "x_train, x_test, y_train, y_test = train_test_split(x, y, test_size=0.25, random_state=123)\n",
    "# Fit Logistic Regression\n",
    "lr = LogisticRegression()\n",
    "lr.fit(x_train, y_train)\n",
    "# Predict\n",
    "predict = lr.predict(x_test)"
   ]
  },
  {
   "cell_type": "code",
   "execution_count": 27,
   "id": "72ee5755",
   "metadata": {},
   "outputs": [
    {
     "data": {
      "text/html": [
       "<div>\n",
       "<style scoped>\n",
       "    .dataframe tbody tr th:only-of-type {\n",
       "        vertical-align: middle;\n",
       "    }\n",
       "\n",
       "    .dataframe tbody tr th {\n",
       "        vertical-align: top;\n",
       "    }\n",
       "\n",
       "    .dataframe thead th {\n",
       "        text-align: right;\n",
       "    }\n",
       "</style>\n",
       "<table border=\"1\" class=\"dataframe\">\n",
       "  <thead>\n",
       "    <tr style=\"text-align: right;\">\n",
       "      <th></th>\n",
       "      <th>Predicted No</th>\n",
       "      <th>Predicted Yes</th>\n",
       "    </tr>\n",
       "  </thead>\n",
       "  <tbody>\n",
       "    <tr>\n",
       "      <th>Actual No</th>\n",
       "      <td>120</td>\n",
       "      <td>16</td>\n",
       "    </tr>\n",
       "    <tr>\n",
       "      <th>Actual Yes</th>\n",
       "      <td>22</td>\n",
       "      <td>58</td>\n",
       "    </tr>\n",
       "  </tbody>\n",
       "</table>\n",
       "</div>"
      ],
      "text/plain": [
       "            Predicted No  Predicted Yes\n",
       "Actual No            120             16\n",
       "Actual Yes            22             58"
      ]
     },
     "execution_count": 27,
     "metadata": {},
     "output_type": "execute_result"
    }
   ],
   "source": [
    "# Print confusion matrix\n",
    "from sklearn.metrics import confusion_matrix\n",
    "#confusion_matrix(y_test, predict)\n",
    "pd.DataFrame(confusion_matrix(y_test, predict), columns=['Predicted No', 'Predicted Yes'], index=['Actual No', 'Actual Yes'])\n"
   ]
  },
  {
   "cell_type": "code",
   "execution_count": 28,
   "id": "edc8c6ba",
   "metadata": {},
   "outputs": [
    {
     "name": "stdout",
     "output_type": "stream",
     "text": [
      "              precision    recall  f1-score   support\n",
      "\n",
      "           0       0.85      0.88      0.86       136\n",
      "           1       0.78      0.72      0.75        80\n",
      "\n",
      "    accuracy                           0.82       216\n",
      "   macro avg       0.81      0.80      0.81       216\n",
      "weighted avg       0.82      0.82      0.82       216\n",
      "\n"
     ]
    }
   ],
   "source": [
    "print(classification_report(y_test, predict))"
   ]
  },
  {
   "cell_type": "markdown",
   "id": "19543f64",
   "metadata": {},
   "source": [
    "#  Decision Tree"
   ]
  },
  {
   "cell_type": "code",
   "execution_count": 29,
   "id": "72c68135",
   "metadata": {},
   "outputs": [],
   "source": [
    "import pandas as pd\n",
    "from sklearn.tree import DecisionTreeClassifier\n",
    "from sklearn.model_selection import train_test_split\n",
    "from sklearn import metrics"
   ]
  },
  {
   "cell_type": "code",
   "execution_count": 30,
   "id": "516ceb8e",
   "metadata": {},
   "outputs": [
    {
     "data": {
      "text/html": [
       "<div>\n",
       "<style scoped>\n",
       "    .dataframe tbody tr th:only-of-type {\n",
       "        vertical-align: middle;\n",
       "    }\n",
       "\n",
       "    .dataframe tbody tr th {\n",
       "        vertical-align: top;\n",
       "    }\n",
       "\n",
       "    .dataframe thead th {\n",
       "        text-align: right;\n",
       "    }\n",
       "</style>\n",
       "<table border=\"1\" class=\"dataframe\">\n",
       "  <thead>\n",
       "    <tr style=\"text-align: right;\">\n",
       "      <th></th>\n",
       "      <th>PassengerId</th>\n",
       "      <th>Survived</th>\n",
       "      <th>Pclass</th>\n",
       "      <th>Name</th>\n",
       "      <th>Sex</th>\n",
       "      <th>Age</th>\n",
       "      <th>SibSp</th>\n",
       "      <th>Parch</th>\n",
       "      <th>Ticket</th>\n",
       "      <th>Fare</th>\n",
       "      <th>Embarked</th>\n",
       "    </tr>\n",
       "  </thead>\n",
       "  <tbody>\n",
       "    <tr>\n",
       "      <th>0</th>\n",
       "      <td>1</td>\n",
       "      <td>0</td>\n",
       "      <td>3</td>\n",
       "      <td>Braund, Mr. Owen Harris</td>\n",
       "      <td>male</td>\n",
       "      <td>22.0</td>\n",
       "      <td>1</td>\n",
       "      <td>0</td>\n",
       "      <td>A/5 21171</td>\n",
       "      <td>7.2500</td>\n",
       "      <td>S</td>\n",
       "    </tr>\n",
       "    <tr>\n",
       "      <th>1</th>\n",
       "      <td>2</td>\n",
       "      <td>1</td>\n",
       "      <td>1</td>\n",
       "      <td>Cumings, Mrs. John Bradley (Florence Briggs Th...</td>\n",
       "      <td>female</td>\n",
       "      <td>38.0</td>\n",
       "      <td>1</td>\n",
       "      <td>0</td>\n",
       "      <td>PC 17599</td>\n",
       "      <td>71.2833</td>\n",
       "      <td>C</td>\n",
       "    </tr>\n",
       "    <tr>\n",
       "      <th>2</th>\n",
       "      <td>3</td>\n",
       "      <td>1</td>\n",
       "      <td>3</td>\n",
       "      <td>Heikkinen, Miss. Laina</td>\n",
       "      <td>female</td>\n",
       "      <td>26.0</td>\n",
       "      <td>0</td>\n",
       "      <td>0</td>\n",
       "      <td>STON/O2. 3101282</td>\n",
       "      <td>7.9250</td>\n",
       "      <td>S</td>\n",
       "    </tr>\n",
       "    <tr>\n",
       "      <th>3</th>\n",
       "      <td>4</td>\n",
       "      <td>1</td>\n",
       "      <td>1</td>\n",
       "      <td>Futrelle, Mrs. Jacques Heath (Lily May Peel)</td>\n",
       "      <td>female</td>\n",
       "      <td>35.0</td>\n",
       "      <td>1</td>\n",
       "      <td>0</td>\n",
       "      <td>113803</td>\n",
       "      <td>53.1000</td>\n",
       "      <td>S</td>\n",
       "    </tr>\n",
       "    <tr>\n",
       "      <th>4</th>\n",
       "      <td>5</td>\n",
       "      <td>0</td>\n",
       "      <td>3</td>\n",
       "      <td>Allen, Mr. William Henry</td>\n",
       "      <td>male</td>\n",
       "      <td>35.0</td>\n",
       "      <td>0</td>\n",
       "      <td>0</td>\n",
       "      <td>373450</td>\n",
       "      <td>8.0500</td>\n",
       "      <td>S</td>\n",
       "    </tr>\n",
       "  </tbody>\n",
       "</table>\n",
       "</div>"
      ],
      "text/plain": [
       "  PassengerId Survived Pclass  \\\n",
       "0           1        0      3   \n",
       "1           2        1      1   \n",
       "2           3        1      3   \n",
       "3           4        1      1   \n",
       "4           5        0      3   \n",
       "\n",
       "                                                Name     Sex   Age SibSp  \\\n",
       "0                            Braund, Mr. Owen Harris    male  22.0     1   \n",
       "1  Cumings, Mrs. John Bradley (Florence Briggs Th...  female  38.0     1   \n",
       "2                             Heikkinen, Miss. Laina  female  26.0     0   \n",
       "3       Futrelle, Mrs. Jacques Heath (Lily May Peel)  female  35.0     1   \n",
       "4                           Allen, Mr. William Henry    male  35.0     0   \n",
       "\n",
       "  Parch            Ticket     Fare Embarked  \n",
       "0     0         A/5 21171   7.2500        S  \n",
       "1     0          PC 17599  71.2833        C  \n",
       "2     0  STON/O2. 3101282   7.9250        S  \n",
       "3     0            113803  53.1000        S  \n",
       "4     0            373450   8.0500        S  "
      ]
     },
     "execution_count": 30,
     "metadata": {},
     "output_type": "execute_result"
    }
   ],
   "source": [
    "#check data\n",
    "df.head()"
   ]
  },
  {
   "cell_type": "code",
   "execution_count": 31,
   "id": "94725f2f",
   "metadata": {},
   "outputs": [],
   "source": [
    "# Transfrom attribute\n",
    "from sklearn.preprocessing import LabelEncoder\n",
    "le = LabelEncoder()\n",
    "df['Sex'] = le.fit_transform(df['Sex'])"
   ]
  },
  {
   "cell_type": "code",
   "execution_count": 32,
   "id": "52e9ab65",
   "metadata": {},
   "outputs": [],
   "source": [
    "#Decide variables to use\n",
    "X = df[['Pclass', 'Sex', 'Age', 'SibSp', 'Parch', 'Fare']]\n",
    "y = df['Survived']"
   ]
  },
  {
   "cell_type": "code",
   "execution_count": 33,
   "id": "6dc9f0e6",
   "metadata": {},
   "outputs": [],
   "source": [
    "#Build Model\n",
    "# train/test split (80/20)\n",
    "x_train, x_test, y_train, y_test = train_test_split(X, y, test_size=0.2, random_state=65)\n",
    "\n",
    "# Train a decision tree\n",
    "dt = DecisionTreeClassifier(max_depth=3)\n",
    "dt_model = dt.fit(x_train, y_train)"
   ]
  },
  {
   "cell_type": "code",
   "execution_count": 34,
   "id": "d03726f0",
   "metadata": {},
   "outputs": [
    {
     "name": "stdout",
     "output_type": "stream",
     "text": [
      "Accuracy score on Testing set:  0.8156424581005587\n"
     ]
    }
   ],
   "source": [
    "# MODEL Evaluation\n",
    "print(\"Accuracy score on Testing set: \", dt_model.score(x_test, y_test))"
   ]
  },
  {
   "cell_type": "code",
   "execution_count": 35,
   "id": "a4d442c7",
   "metadata": {},
   "outputs": [
    {
     "data": {
      "image/png": "[encoded data removed]",
      "text/plain": [
       "<Figure size 2500x2000 with 1 Axes>"
      ]
     },
     "metadata": {},
     "output_type": "display_data"
    }
   ],
   "source": [
    "# Graphic\n",
    "import matplotlib.pyplot as plt, seaborn as sns\n",
    "from sklearn import tree\n",
    "fig = plt.figure(figsize=(25, 20))\n",
    "tree.plot_tree(dt_model, feature_names=list(X.columns), class_names=['Not survived', 'Survived'])\n",
    "plt.show()"
   ]
  },
  {
   "cell_type": "code",
   "execution_count": null,
   "id": "24adc2ef",
   "metadata": {},
   "outputs": [],
   "source": []
  }
 ],
 "metadata": {
  "kernelspec": {
   "display_name": "base",
   "language": "python",
   "name": "python3"
  },
  "language_info": {
   "codemirror_mode": {
    "name": "ipython",
    "version": 3
   },
   "file_extension": ".py",
   "mimetype": "text/x-python",
   "name": "python",
   "nbconvert_exporter": "python",
   "pygments_lexer": "ipython3",
   "version": "3.9.13"
  }
 },
 "nbformat": 4,
 "nbformat_minor": 5
}
